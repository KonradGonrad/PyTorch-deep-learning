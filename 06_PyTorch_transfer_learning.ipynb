{
  "nbformat": 4,
  "nbformat_minor": 0,
  "metadata": {
    "colab": {
      "private_outputs": true,
      "provenance": [],
      "authorship_tag": "ABX9TyO8x3kIcEmORSJudWyRRs6x",
      "include_colab_link": true
    },
    "kernelspec": {
      "name": "python3",
      "display_name": "Python 3"
    },
    "language_info": {
      "name": "python"
    }
  },
  "cells": [
    {
      "cell_type": "markdown",
      "metadata": {
        "id": "view-in-github",
        "colab_type": "text"
      },
      "source": [
        "<a href=\"https://colab.research.google.com/github/KonradGonrad/PyTorch-deep-learning/blob/main/06_PyTorch_transfer_learning.ipynb\" target=\"_parent\"><img src=\"https://colab.research.google.com/assets/colab-badge.svg\" alt=\"Open In Colab\"/></a>"
      ]
    },
    {
      "cell_type": "code",
      "execution_count": null,
      "metadata": {
        "id": "sQQH-HXqt-CU"
      },
      "outputs": [],
      "source": [
        "try:\n",
        "  import torch\n",
        "  import torchvision\n",
        "  assert (int(torch.__version__.split('.')[0]) > 1) or \\\n",
        "          (int(torch.__version__.split('.')[0]) == 1 and int(torch.__version__.split('.')[1]) >= 12), 'torch must have newer version than 1.12'\n",
        "  assert (int(torchvision.__version__.split('.')[1]) >= 13), 'torchvision must be newer version than 0.13'\n",
        "except:\n",
        "  print(f'[INFO] torch/torchvision version not as required. Installing newer version')\n",
        "  !pip3 install -U torch torchvision torchaudio --extra-index-url https://download.pytorch.org/whl/cu113\n",
        "  import torch\n",
        "  import torchvision\n",
        "  print(f'torch version: {torch.__version__}')\n",
        "  print(f'torchvision version: {torchvision.__version__}')"
      ]
    },
    {
      "cell_type": "code",
      "source": [
        "import os\n",
        "import zipfile\n",
        "import matplotlib.pyplot as plt\n",
        "import requests\n",
        "\n",
        "from pathlib import Path\n",
        "\n",
        "DATA_PATH = Path('data/')\n",
        "IMAGE_PATH = DATA_PATH / 'pizza_steak_sushi'\n",
        "\n",
        "if IMAGE_PATH.is_dir():\n",
        "  print(f\"{IMAGE_PATH} directory already exists\")\n",
        "else:\n",
        "  print(f\"Did not find {IMAGE_PATH} directory, creating one...\")\n",
        "  IMAGE_PATH.mkdir(parents=True, exist_ok=True)\n",
        "\n",
        "  with open(DATA_PATH / 'pizza_steak_sushi.zip', 'wb') as f:\n",
        "    request = requests.get('https://github.com/mrdbourke/pytorch-deep-learning/raw/main/data/pizza_steak_sushi.zip')\n",
        "    f.write(request.content)\n",
        "\n",
        "  with zipfile.ZipFile(DATA_PATH / 'pizza_steak_sushi.zip', 'r') as zipf:\n",
        "    zipf.extractall(IMAGE_PATH)\n",
        "\n",
        "  os.remove(DATA_PATH / 'pizza_steak_sushi.zip')\n"
      ],
      "metadata": {
        "id": "GdC9cZw9uBEA"
      },
      "execution_count": null,
      "outputs": []
    },
    {
      "cell_type": "code",
      "source": [
        "TRAIN_DIR = IMAGE_PATH / 'train'\n",
        "TEST_DIR = IMAGE_PATH / 'test'"
      ],
      "metadata": {
        "id": "FeR6VAr8uBaf"
      },
      "execution_count": null,
      "outputs": []
    },
    {
      "cell_type": "code",
      "source": [
        "Additional_func_path = Path('add/')\n",
        "\n",
        "if Additional_func_path.is_dir():\n",
        "  print(f'{Additional_func_path} already exists.')\n",
        "else:\n",
        "  print(f\"Can't find {Additional_func_path}. Creating one..\")\n",
        "  Additional_func_path.mkdir(parents=True, exist_ok = True)\n",
        "  with open(Additional_func_path / 'notebook_5.ipynb', 'wb') as f:\n",
        "    request = requests.get('https://github.com/KonradGonrad/PyTorch-deep-learning/raw/main/Kopia_notatnika_05_pytorch_going_modular_exercise_template.ipynb')\n",
        "\n",
        "    f.write(request.content)"
      ],
      "metadata": {
        "id": "jRlU6OlSNYA8"
      },
      "execution_count": null,
      "outputs": []
    },
    {
      "cell_type": "code",
      "source": [
        "!jupyter nbconvert --to script add/notebook_5.ipynb\n",
        "!mv add/notebook_5.txt add/notebook_5.py\n"
      ],
      "metadata": {
        "id": "90-eGJBDUDpQ"
      },
      "execution_count": null,
      "outputs": []
    },
    {
      "cell_type": "code",
      "source": [
        "!pip install nbimporter"
      ],
      "metadata": {
        "id": "71GCLYhhQdoB"
      },
      "execution_count": null,
      "outputs": []
    },
    {
      "cell_type": "code",
      "source": [
        "import sys\n",
        "from pathlib import Path\n",
        "\n",
        "sys.path.append(str(Path('add')))"
      ],
      "metadata": {
        "id": "LrRNdYkxR2EU"
      },
      "execution_count": null,
      "outputs": []
    },
    {
      "cell_type": "code",
      "source": [
        "sys.path"
      ],
      "metadata": {
        "id": "7HZifIDCRmwd"
      },
      "execution_count": null,
      "outputs": []
    },
    {
      "cell_type": "code",
      "source": [
        "code_path = 'add/notebook_5.py'\n",
        "\n",
        "with open(code_path, 'r') as file:\n",
        "  lines = file.readlines()\n",
        "\n",
        "  lines_to_keep = [line for i, line in enumerate(lines) if i <= 425]\n",
        "\n",
        "with open('add/notebook.py', 'w') as file:\n",
        "  file.writelines(lines_to_keep)\n",
        "\n",
        "os.remove(code_path)\n",
        "os.remove('add/notebook_5.ipynb')"
      ],
      "metadata": {
        "id": "uO5LThngVpf3"
      },
      "execution_count": null,
      "outputs": []
    },
    {
      "cell_type": "code",
      "source": [
        "import nbimporter\n",
        "\n",
        "from notebook import prepare_data"
      ],
      "metadata": {
        "id": "LyI9-CEETGtU"
      },
      "execution_count": null,
      "outputs": []
    },
    {
      "cell_type": "code",
      "source": [],
      "metadata": {
        "id": "6Tk4UPVwT-CE"
      },
      "execution_count": null,
      "outputs": []
    }
  ]
}