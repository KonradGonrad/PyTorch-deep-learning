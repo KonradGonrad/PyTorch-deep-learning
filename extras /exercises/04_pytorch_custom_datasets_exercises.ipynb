{
  "cells": [
    {
      "cell_type": "markdown",
      "metadata": {
        "id": "view-in-github",
        "colab_type": "text"
      },
      "source": [
        "<a href=\"https://colab.research.google.com/github/KonradGonrad/PyTorch-deep-learning/blob/main/extras%20/exercises/04_pytorch_custom_datasets_exercises.ipynb\" target=\"_parent\"><img src=\"https://colab.research.google.com/assets/colab-badge.svg\" alt=\"Open In Colab\"/></a>"
      ]
    },
    {
      "cell_type": "markdown",
      "metadata": {
        "id": "Vex99np2wFVt"
      },
      "source": [
        "# 04. PyTorch Custom Datasets Exercises Template\n",
        "\n",
        "Welcome to the 04. PyTorch Custom Datasets exercise template.\n",
        "\n",
        "The best way to practice PyTorch code is to write more PyTorch code.\n",
        "\n",
        "So read the original notebook and try to complete the exercises by writing code where it's required.\n",
        "\n",
        "Feel free to reference the original resources whenever you need but should practice writing all of the code yourself.\n",
        "\n",
        "## Resources\n",
        "\n",
        "1. These exercises/solutions are based on [notebook 04 of the Learn PyTorch for Deep Learning course](https://www.learnpytorch.io/04_pytorch_custom_datasets/).\n",
        "2. See a live [walkthrough of the solutions (errors and all) on YouTube](https://youtu.be/vsFMF9wqWx0).\n",
        "3. See [other solutions on the course GitHub](https://github.com/mrdbourke/pytorch-deep-learning/tree/main/extras/solutions)."
      ]
    },
    {
      "cell_type": "code",
      "execution_count": null,
      "metadata": {
        "colab": {
          "background_save": true,
          "base_uri": "https://localhost:8080/"
        },
        "collapsed": true,
        "id": "GaeYzOTLwWh2",
        "outputId": "3544e808-c559-45b4-acb6-279a0f60a397"
      },
      "outputs": [
        {
          "name": "stdout",
          "output_type": "stream",
          "text": [
            "/bin/bash: line 1: nvidia-smi: command not found\n"
          ]
        }
      ],
      "source": [
        "# Check for GPU\n",
        "!nvidia-smi"
      ]
    },
    {
      "cell_type": "code",
      "execution_count": null,
      "metadata": {
        "id": "DNwZLMbCzJLk"
      },
      "outputs": [],
      "source": [
        "# Import torch\n",
        "import torch\n",
        "from torch import nn\n",
        "\n",
        "# Exercises require PyTorch > 1.10.0\n",
        "print(torch.__version__)\n",
        "\n",
        "# Setup device agnostic code\n",
        "device = \"cuda\" if torch.cuda.is_available() else \"cpu\"\n",
        "device"
      ]
    },
    {
      "cell_type": "markdown",
      "metadata": {
        "id": "FSFX7tc1w-en"
      },
      "source": [
        "## 1. Our models are underperforming (not fitting the data well). What are 3 methods for preventing underfitting? Write them down and explain each with a sentence."
      ]
    },
    {
      "cell_type": "markdown",
      "metadata": {
        "id": "-90Qvx9gtrLj"
      },
      "source": []
    },
    {
      "cell_type": "markdown",
      "metadata": {
        "id": "oBK-WI6YxDYa"
      },
      "source": [
        "## 2. Recreate the data loading functions we built in [sections 1, 2, 3 and 4 of notebook 04](https://www.learnpytorch.io/04_pytorch_custom_datasets/). You should have train and test `DataLoader`'s ready to use."
      ]
    },
    {
      "cell_type": "code",
      "execution_count": null,
      "metadata": {
        "id": "MZkCPJBR3lw4"
      },
      "outputs": [],
      "source": [
        "# 1. Get data\n",
        "import requests\n",
        "from pathlib import Path\n",
        "import zipfile\n",
        "\n",
        "DATA_PATH = Path(\"data/\")\n",
        "IMAGES_PATH = DATA_PATH / \"pizza_steak_sushi\"\n",
        "\n",
        "if IMAGES_PATH.is_dir():\n",
        "  print(f\"{IMAGES_PATH} already exist.\")\n",
        "else:\n",
        "  IMAGES_PATH.mkdir(parents=True, exist_ok = True)\n",
        "\n",
        "  request = requests.get(\"https://github.com/mrdbourke/pytorch-deep-learning/raw/main/data/pizza_steak_sushi.zip\")\n",
        "\n",
        "  with open(DATA_PATH / \"pizza_steak_sushi.zip\", 'wb') as f:\n",
        "    f.write(request.content)\n",
        "\n",
        "  with zipfile.ZipFile(DATA_PATH / \"pizza_steak_sushi.zip\", 'r') as zipf:\n",
        "    zipf.extractall(IMAGES_PATH)"
      ]
    },
    {
      "cell_type": "code",
      "execution_count": null,
      "metadata": {
        "id": "TYmhAX7J52VX"
      },
      "outputs": [],
      "source": [
        "# 2. Become one with the data\n",
        "import os\n",
        "\n",
        "def walk_through_dir(dir_path):\n",
        "  \"\"\"Walks through dir_path returning file counts of its contents.\"\"\"\n",
        "  for dirpath, dirnames, filenames in os.walk(dir_path):\n",
        "    print(f\"There are {len(dirnames)} directories and {len(filenames)} images in '{dirpath}'.\")\n",
        "\n",
        "walk_through_dir(IMAGES_PATH)"
      ]
    },
    {
      "cell_type": "code",
      "execution_count": null,
      "metadata": {
        "id": "3A9ZmOn-7Jhh"
      },
      "outputs": [],
      "source": [
        "# Setup train and testing paths\n",
        "TRAIN_PATH = IMAGES_PATH / \"train\"\n",
        "TEST_PATH = IMAGES_PATH / \"test\""
      ]
    },
    {
      "cell_type": "code",
      "execution_count": null,
      "metadata": {
        "id": "51ywNKkN7WOl"
      },
      "outputs": [],
      "source": [
        "# Visualize an image\n",
        "import random\n",
        "from PIL import Image\n",
        "import matplotlib.pyplot as plt\n",
        "\n",
        "ALL_IMAGES_PATHS = list(IMAGES_PATH.glob(\"*/*/*.jpg\"))\n",
        "\n",
        "random_image = random.choice(ALL_IMAGES_PATHS)\n",
        "random_image_label = random_image.parent.stem\n",
        "\n",
        "random_img = Image.open(random_image)"
      ]
    },
    {
      "cell_type": "code",
      "execution_count": null,
      "metadata": {
        "id": "Qe4LoASC9sQ-"
      },
      "outputs": [],
      "source": [
        "# Do the image visualization with matplotlib\n",
        "plt.figure(figsize=(10,7))\n",
        "plt.imshow(random_img)\n",
        "plt.title(random_image_label)\n",
        "plt.axis(\"off\");"
      ]
    },
    {
      "cell_type": "markdown",
      "metadata": {
        "id": "2AU4FGYC_KBz"
      },
      "source": [
        "We've got some images in our folders.\n",
        "\n",
        "Now we need to make them compatible with PyTorch by:\n",
        "1. Transform the data into tensors.\n",
        "2. Turn the tensor data into a `torch.utils.data.Dataset` and later a `torch.utils.data.DataLoader`."
      ]
    },
    {
      "cell_type": "code",
      "execution_count": null,
      "metadata": {
        "id": "KbGMaYGT-vwq"
      },
      "outputs": [],
      "source": [
        "# 3.1 Transforming data with torchvision.transforms\n",
        "import torch\n",
        "from torch.utils.data import DataLoader\n",
        "from torchvision import datasets, transforms\n",
        "\n",
        "data_transform = transforms.Compose([\n",
        "    transforms.Resize(size=(64, 64)),\n",
        "    transforms.RandomHorizontalFlip(p=0.5),\n",
        "    transforms.ToTensor()\n",
        "])\n"
      ]
    },
    {
      "cell_type": "code",
      "execution_count": null,
      "metadata": {
        "id": "gnvUSYYW_ohN"
      },
      "outputs": [],
      "source": [
        "\n",
        "# Write transform for turning images into tensors\n"
      ]
    },
    {
      "cell_type": "code",
      "execution_count": null,
      "metadata": {
        "id": "vp8I2cpMAxcT"
      },
      "outputs": [],
      "source": [
        "# Write a function to plot transformed images\n",
        "import torchvision\n",
        "import pathlib\n",
        "\n",
        "def plot_transformed_images(image_paths: pathlib.Path,\n",
        "                            transform = torchvision.transforms,\n",
        "                            n: int = 3,\n",
        "                            seed: torch.seed = 42\n",
        "                            ):\n",
        "  random.seed(seed)\n",
        "  random_image_paths = random.sample(image_paths, k=n)\n",
        "  for image_path in random_image_paths:\n",
        "    with Image.open(image_path) as f:\n",
        "      fig, ax = plt.subplots(1, 2)\n",
        "      ax[0].set_title(f\"Original shape: {f.size}\")\n",
        "      ax[0].axis(\"off\")\n",
        "      ax[0].imshow(f)\n",
        "\n",
        "      f_transformed = transform(f)\n",
        "      ax[1].set_title(f\"New shape: {f_transformed.shape}\")\n",
        "      ax[1].axis(\"off\")\n",
        "      ax[1].imshow(f_transformed.permute(1, 2, 0))\n",
        "\n",
        "plot_transformed_images(image_paths = ALL_IMAGES_PATHS,\n",
        "                        transform = data_transform,\n",
        "                        n = 3,\n",
        "                        seed = 42)"
      ]
    },
    {
      "cell_type": "markdown",
      "metadata": {
        "id": "FKgfqPArChVR"
      },
      "source": [
        "### Load image data using `ImageFolder`"
      ]
    },
    {
      "cell_type": "code",
      "execution_count": null,
      "metadata": {
        "id": "8OFgwQF1CkOu"
      },
      "outputs": [],
      "source": [
        "# Use ImageFolder to create dataset(s)\n",
        "from torchvision.datasets import ImageFolder\n",
        "\n",
        "TRAIN_DIR = IMAGES_PATH / 'train'\n",
        "TEST_DIR = IMAGES_PATH / 'test'\n",
        "\n",
        "TRAIN_TRANSFORM = transforms.Compose([\n",
        "    transforms.Resize(size=(64, 64)),\n",
        "    transforms.ToTensor()\n",
        "])\n",
        "\n",
        "TEST_TRANSFORM = transforms.Compose([\n",
        "    transforms.Resize(size=(64, 64)),\n",
        "    transforms.ToTensor()\n",
        "])\n",
        "\n",
        "train_dataset = ImageFolder(root=TRAIN_DIR,\n",
        "                            transform=TRAIN_TRANSFORM,\n",
        "                            target_transform=None)\n",
        "\n",
        "test_dataset = ImageFolder(root=TEST_DIR,\n",
        "                           transform=TEST_TRANSFORM,\n",
        "                           target_transform=None)\n",
        "\n",
        "print(f\"Train data:\\n{train_dataset}\\nTest data:\\n{test_dataset}\")"
      ]
    },
    {
      "cell_type": "code",
      "execution_count": null,
      "metadata": {
        "id": "MbT0fhXHEQyJ"
      },
      "outputs": [],
      "source": [
        "# Get class names as a list\n",
        "class_names = train_dataset.classes\n",
        "class_names"
      ]
    },
    {
      "cell_type": "code",
      "execution_count": null,
      "metadata": {
        "id": "uCcWk7NDEay1"
      },
      "outputs": [],
      "source": [
        "# Can also get class names as a dict\n",
        "class_dict = train_dataset.class_to_idx\n",
        "class_dict"
      ]
    },
    {
      "cell_type": "code",
      "execution_count": null,
      "metadata": {
        "id": "W7H7bX4HEgie"
      },
      "outputs": [],
      "source": [
        "# Check the lengths of each dataset\n",
        "len(train_dataset), len(test_dataset)"
      ]
    },
    {
      "cell_type": "code",
      "execution_count": null,
      "metadata": {
        "id": "nskNr5YCEoRl"
      },
      "outputs": [],
      "source": [
        "# Turn train and test Datasets into DataLoaders\n",
        "from torch.utils.data import DataLoader\n",
        "import os\n",
        "\n",
        "NUM_WORKERS = os.cpu_count()\n",
        "BATCH_SIZE = 1\n",
        "\n",
        "train_dataloader = DataLoader(train_dataset,\n",
        "                              batch_size=BATCH_SIZE,\n",
        "                              shuffle=True,\n",
        "                              num_workers=NUM_WORKERS)\n",
        "\n",
        "test_dataloader = DataLoader(test_dataset,\n",
        "                             batch_size=BATCH_SIZE,\n",
        "                             shuffle=False,\n",
        "                             num_workers=NUM_WORKERS)"
      ]
    },
    {
      "cell_type": "code",
      "execution_count": null,
      "metadata": {
        "id": "z8vJxmxAFqw6"
      },
      "outputs": [],
      "source": [
        "# How many batches of images are in our data loaders?\n",
        "len(train_dataloader)"
      ]
    },
    {
      "cell_type": "markdown",
      "metadata": {
        "id": "XeYFEqw8xK26"
      },
      "source": [
        "## 3. Recreate `model_0` we built in section 7 of notebook 04."
      ]
    },
    {
      "cell_type": "code",
      "execution_count": null,
      "metadata": {
        "id": "MBErjcUCyDzE"
      },
      "outputs": [],
      "source": [
        "class TinyVGG(nn.Module):\n",
        "  def __init__(self,\n",
        "               input_channels: int,\n",
        "               hidden_channels: int,\n",
        "               output_channels: int):\n",
        "    super().__init__()\n",
        "    self.layer_1 = nn.Sequential(\n",
        "        nn.Conv2d(in_channels=input_channels,\n",
        "                  out_channels=hidden_channels,\n",
        "                  kernel_size = 3,\n",
        "                  stride=1,\n",
        "                  padding=0),\n",
        "        nn.ReLU(),\n",
        "        nn.Conv2d(in_channels=hidden_channels,\n",
        "                  out_channels=hidden_channels,\n",
        "                  kernel_size= 3,\n",
        "                  stride=1,\n",
        "                  padding=0),\n",
        "        nn.ReLU(),\n",
        "        nn.MaxPool2d(kernel_size=2,\n",
        "                     stride=2,\n",
        "                     padding=0)\n",
        "        )\n",
        "    self.layer_2 = nn.Sequential(\n",
        "        nn.Conv2d(in_channels=hidden_channels,\n",
        "                  out_channels=hidden_channels,\n",
        "                  kernel_size=3,\n",
        "                  stride=1,\n",
        "                  padding=0),\n",
        "        nn.ReLU(),\n",
        "        nn.Conv2d(in_channels=hidden_channels,\n",
        "                  out_channels=hidden_channels,\n",
        "                  kernel_size=3,\n",
        "                  stride=1,\n",
        "                  padding=0),\n",
        "        nn.ReLU(),\n",
        "        nn.MaxPool2d(kernel_size=2,\n",
        "                     stride=2,\n",
        "                     padding=0)\n",
        "    )\n",
        "    self.output_layer = nn.Sequential(\n",
        "        nn.Flatten(),\n",
        "        nn.Linear(in_features=hidden_channels*13*13,\n",
        "                  out_features=output_channels)\n",
        "    )\n",
        "\n",
        "  def forward(self, x):\n",
        "    x = self.layer_1(x)\n",
        "    #print(x.shape)\n",
        "    x = self.layer_2(x)\n",
        "    #print(x.shape)\n",
        "    x = self.output_layer(x)\n",
        "    #print(x.shape)\n",
        "    return x"
      ]
    },
    {
      "cell_type": "markdown",
      "metadata": {
        "id": "DKdEEFEqxM-8"
      },
      "source": [
        "## 4. Create training and testing functions for `model_0`."
      ]
    },
    {
      "cell_type": "code",
      "execution_count": null,
      "metadata": {
        "id": "rnUox1qayDes"
      },
      "outputs": [],
      "source": [
        "import torch\n",
        "\n",
        "def train_step(model: torch.nn.Module,\n",
        "               dataloader: torch.utils.data.DataLoader,\n",
        "               loss_fn: torch.nn.Module,\n",
        "               optimizer: torch.optim.Optimizer,\n",
        "               device: torch.device):\n",
        "\n",
        "  # Put the model in train mode\n",
        "  model.train()\n",
        "\n",
        "  # Setup train loss and train accuracy values\n",
        "  train_loss, train_acc = 0, 0\n",
        "\n",
        "  # Loop through data loader and data batches\n",
        "  for Batch, (X, y) in enumerate(dataloader):\n",
        "    # Send data to target device\n",
        "    X, y = X.to(device), y.to(device)\n",
        "    # 1. Forward pass\n",
        "    y_logits = model(X)\n",
        "    # 2. Calculate and accumulate loss\n",
        "    loss = loss_fn(y_logits, y)\n",
        "    train_loss += loss.item()\n",
        "    # 3. Optimizer zero grad\n",
        "    optimizer.zero_grad()\n",
        "\n",
        "    # 4. Loss backward\n",
        "    loss.backward()\n",
        "\n",
        "    # 5. Optimizer step\n",
        "    optimizer.step()\n",
        "\n",
        "    # Calculate and accumualte accuracy metric across all batches\n",
        "    y_pred = torch.argmax(torch.softmax(y_logits, dim=1), dim=1)\n",
        "    train_acc += (y_pred == y).sum().item()/len(y_pred)\n",
        "\n",
        "  # Adjust metrics to get average loss and average accuracy per batch\n",
        "  train_loss /= len(dataloader)\n",
        "  train_acc /= len(dataloader)\n",
        "\n",
        "  return train_loss, train_acc"
      ]
    },
    {
      "cell_type": "code",
      "execution_count": null,
      "metadata": {
        "id": "I2BWiannaAq4"
      },
      "outputs": [],
      "source": [
        "model_0 = TinyVGG(input_channels = 3,\n",
        "                  hidden_channels=10,\n",
        "                  output_channels=len(class_names))\n",
        "\n",
        "for i in range(2):\n",
        "  l, a = train_step(model=model_0,\n",
        "            dataloader=train_dataloader,\n",
        "            loss_fn=nn.CrossEntropyLoss(),\n",
        "            optimizer = torch.optim.Adam(params = model_0.parameters(),\n",
        "                                        lr = 0.01),\n",
        "            device='cpu')\n",
        "  print(l, a)"
      ]
    },
    {
      "cell_type": "code",
      "execution_count": null,
      "metadata": {
        "id": "O7_EVPpHNKUP"
      },
      "outputs": [],
      "source": [
        "def test_step(model: torch.nn.Module,\n",
        "              dataloader: torch.utils.data.DataLoader,\n",
        "              loss_fn: torch.nn.Module,\n",
        "              device: torch.device\n",
        "              ):\n",
        "\n",
        "  # Put model in eval mode\n",
        "  model.eval()\n",
        "\n",
        "  # Setup the test loss and test accuracy values\n",
        "  test_loss, test_acc = 0, 0\n",
        "\n",
        "  # Turn on inference context manager\n",
        "  with torch.inference_mode():\n",
        "    # Loop through DataLoader batches\n",
        "    for batch, (X, y) in enumerate(dataloader):\n",
        "      # Send data to target device\n",
        "      X, y = X.to(device), y.to(device)\n",
        "\n",
        "      # 1. Forward pass\n",
        "      y_logits = model(X)\n",
        "\n",
        "      # 2. Calculuate and accumulate loss\n",
        "      loss = loss_fn(y_logits, y)\n",
        "      test_loss += loss.item()\n",
        "      # Calculate and accumulate accuracy\n",
        "      y_pred = torch.argmax(y_logits, dim=1)\n",
        "      test_acc += ((y_pred == y).sum().item() / len(y_pred))\n",
        "\n",
        "  # Adjust metrics to get average loss and accuracy per batch\n",
        "  test_loss /= len(dataloader)\n",
        "  test_acc /= len(dataloader)\n",
        "\n",
        "  return test_loss, test_acc"
      ]
    },
    {
      "cell_type": "code",
      "execution_count": null,
      "metadata": {
        "id": "yJs699TdBDay"
      },
      "outputs": [],
      "source": [
        "for i in range(2):\n",
        "  l, a = test_step(model_0,\n",
        "            dataloader=test_dataloader,\n",
        "            loss_fn=nn.CrossEntropyLoss(),\n",
        "            device='cpu')\n",
        "  print(l, a)"
      ]
    },
    {
      "cell_type": "code",
      "execution_count": null,
      "metadata": {
        "id": "zXxTIh9tOh68"
      },
      "outputs": [],
      "source": [
        "from tqdm.auto import tqdm\n",
        "\n",
        "def train(model: torch.nn.Module,\n",
        "          train_dataloader: torch.utils.data.DataLoader,\n",
        "          test_dataloader: torch.utils.data.DataLoader,\n",
        "          optimizer: torch.optim.Optimizer,\n",
        "          device: torch.device,\n",
        "          loss_fn: torch.nn.Module = nn.CrossEntropyLoss(),\n",
        "          epochs: int = 5):\n",
        "\n",
        "  # Create results dictionary\n",
        "  results = {\"train_loss\": [],\n",
        "             \"train_acc\": [],\n",
        "             \"test_loss\": [],\n",
        "             \"test_acc\": []}\n",
        "\n",
        "  # Loop through the training and testing steps for a number of epochs\n",
        "  for epoch in tqdm(range(epochs)):\n",
        "    # Train step\n",
        "    train_loss, train_acc = train_step(model=model,\n",
        "                                       dataloader=train_dataloader,\n",
        "                                       loss_fn=loss_fn,\n",
        "                                       optimizer=optimizer,\n",
        "                                       device=device)\n",
        "    # Test step\n",
        "    test_loss, test_acc = test_step(model=model,\n",
        "                                    dataloader=test_dataloader,\n",
        "                                    loss_fn=loss_fn,\n",
        "                                    device=device\n",
        "                                    )\n",
        "\n",
        "    # Print out what's happening\n",
        "    print(f\"Epoch: {epoch+1} | \"\n",
        "          f\"train_loss: {train_loss:.4f} | \"\n",
        "          f\"train_acc: {train_acc:.4f} | \"\n",
        "          f\"test_loss: {test_loss:.4f} | \"\n",
        "          f\"test_acc: {test_acc:.4f}\"\n",
        "    )\n",
        "\n",
        "    # Update the results dictionary\n",
        "    results[\"train_loss\"].append(train_loss)\n",
        "    results[\"train_acc\"].append(train_acc)\n",
        "    results[\"test_loss\"].append(test_loss)\n",
        "    results[\"test_acc\"].append(test_acc)\n",
        "\n",
        "  # Return the results dictionary\n",
        "  return results\n"
      ]
    },
    {
      "cell_type": "code",
      "execution_count": null,
      "metadata": {
        "id": "8_OMDwLCi8rh"
      },
      "outputs": [],
      "source": [
        "import matplotlib.pyplot as plt\n",
        "\n",
        "def plot_results(results: dict[str, list[float]]) -> plt.plot:\n",
        "  train_loss, test_loss = results[\"train_loss\"], results[\"test_loss\"]\n",
        "  train_acc, test_acc = results[\"train_acc\"], results[\"test_acc\"]\n",
        "\n",
        "  epochs = range(len(results[\"train_loss\"]))\n",
        "\n",
        "  plt.figure(figsize=(16, 8))\n",
        "\n",
        "  plt.subplot(1, 2, 1)\n",
        "  plt.title('Loss')\n",
        "  plt.plot(epochs, train_loss, label = 'train')\n",
        "  plt.plot(epochs, test_loss, label = 'test')\n",
        "  plt.legend()\n",
        "\n",
        "  plt.subplot(1, 2, 2)\n",
        "  plt.title('Accuracy')\n",
        "  plt.plot(epochs, train_acc, label = 'train')\n",
        "  plt.plot(epochs, test_acc, label = 'test')\n",
        "  plt.legend()\n",
        "\n",
        "  plt.show();\n"
      ]
    },
    {
      "cell_type": "markdown",
      "metadata": {
        "id": "lvf-3pODxXYI"
      },
      "source": [
        "## 5. Try training the model you made in exercise 3 for 5, 20 and 50 epochs, what happens to the results?\n",
        "* Use `torch.optim.Adam()` with a learning rate of 0.001 as the optimizer."
      ]
    },
    {
      "cell_type": "code",
      "execution_count": null,
      "metadata": {
        "id": "rV7s2qtIyDIZ"
      },
      "outputs": [],
      "source": [
        "# Fresh model\n",
        "model_01 = TinyVGG(input_channels = 3,\n",
        "                  hidden_channels=10,\n",
        "                  output_channels=len(class_names))\n",
        "\n",
        "# Train for 5 epochs\n",
        "torch.manual_seed(42)\n",
        "torch.cuda.manual_seed(42)\n",
        "\n",
        "loss_fn = nn.CrossEntropyLoss()\n",
        "optimizer = torch.optim.Adam(#TODO,\n",
        "                             params=model_01.parameters(),\n",
        "                             lr=0.001)\n",
        "\n",
        "EPOCHS = 5\n",
        "\n",
        "model_0_5e = train(model=model_01,\n",
        "                   train_dataloader=train_dataloader,\n",
        "                   test_dataloader=test_dataloader,\n",
        "                   optimizer=optimizer,\n",
        "                   loss_fn=loss_fn,\n",
        "                   device='cpu',\n",
        "                   epochs=EPOCHS)\n",
        "\n",
        "plot_results(model_0_5e)"
      ]
    },
    {
      "cell_type": "code",
      "execution_count": null,
      "metadata": {
        "id": "UEtZzyF1QGTq"
      },
      "outputs": [],
      "source": [
        "# Fresh model\n",
        "model_02 = TinyVGG(input_channels = 3,\n",
        "                  hidden_channels=10,\n",
        "                  output_channels=len(class_names))\n",
        "\n",
        "# Train for 20 epochs\n",
        "torch.manual_seed(42)\n",
        "torch.cuda.manual_seed(42)\n",
        "\n",
        "loss_fn = nn.CrossEntropyLoss()\n",
        "optimizer = torch.optim.Adam(#TODO,\n",
        "                             params=model_02.parameters(),\n",
        "                             lr=0.001)\n",
        "\n",
        "EPOCHS = 20\n",
        "\n",
        "model_0_20e = train(model=model_02,\n",
        "                    train_dataloader = train_dataloader,\n",
        "                    test_dataloader = test_dataloader,\n",
        "                    optimizer = optimizer,\n",
        "                    loss_fn=loss_fn,\n",
        "                    device='cpu',\n",
        "                    epochs = EPOCHS)\n",
        "\n",
        "plot_results(model_0_20e)"
      ]
    },
    {
      "cell_type": "code",
      "execution_count": null,
      "metadata": {
        "id": "Dwvg40qAQGP9"
      },
      "outputs": [],
      "source": [
        "# Fresh model\n",
        "model_03 = TinyVGG(input_channels = 3,\n",
        "                  hidden_channels=10,\n",
        "                  output_channels=len(class_names))\n",
        "\n",
        "# Train for 20 epochs\n",
        "torch.manual_seed(42)\n",
        "torch.cuda.manual_seed(42)\n",
        "\n",
        "loss_fn = nn.CrossEntropyLoss()\n",
        "optimizer = torch.optim.Adam(#TODO,\n",
        "                             params=model_03.parameters(),\n",
        "                             lr=0.001)\n",
        "\n",
        "EPOCHS = 50\n",
        "\n",
        "model_0_50e = train(model=model_03,\n",
        "                    train_dataloader = train_dataloader,\n",
        "                    test_dataloader = test_dataloader,\n",
        "                    optimizer = optimizer,\n",
        "                    loss_fn=loss_fn,\n",
        "                    device='cpu',\n",
        "                    epochs = EPOCHS)\n",
        "\n",
        "plot_results(model_0_50e)"
      ]
    },
    {
      "cell_type": "markdown",
      "metadata": {
        "id": "fn8_fDGzQGMn"
      },
      "source": [
        "It looks like our model is starting to overfit towards the end (performing far better on the training data than on the testing data).\n",
        "\n",
        "In order to fix this, we'd have to introduce ways of preventing overfitting."
      ]
    },
    {
      "cell_type": "markdown",
      "metadata": {
        "id": "qxZW-uAbxe_F"
      },
      "source": [
        "## 6. Double the number of hidden units in your model and train it for 20 epochs, what happens to the results?"
      ]
    },
    {
      "cell_type": "code",
      "execution_count": null,
      "metadata": {
        "id": "HdRM86voyC0x"
      },
      "outputs": [],
      "source": [
        "# Double the number of hidden units and train for 20 epochs\n",
        "torch.manual_seed(42)\n",
        "torch.cuda.manual_seed(42)\n"
      ]
    },
    {
      "cell_type": "markdown",
      "metadata": {
        "id": "THYGHbxyTfzM"
      },
      "source": [
        "It looks like the model is still overfitting, even when changing the number of hidden units.\n",
        "\n",
        "To fix this, we'd have to look at ways to prevent overfitting with our model."
      ]
    },
    {
      "cell_type": "markdown",
      "metadata": {
        "id": "JAPDzW0wxhi3"
      },
      "source": [
        "## 7. Double the data you're using with your model from step 6 and train it for 20 epochs, what happens to the results?\n",
        "* **Note:** You can use the [custom data creation notebook](https://github.com/mrdbourke/pytorch-deep-learning/blob/main/extras/04_custom_data_creation.ipynb) to scale up your Food101 dataset.\n",
        "* You can also find the [already formatted double data (20% instead of 10% subset) dataset on GitHub](https://github.com/mrdbourke/pytorch-deep-learning/blob/main/data/pizza_steak_sushi_20_percent.zip), you will need to write download code like in exercise 2 to get it into this notebook."
      ]
    },
    {
      "cell_type": "code",
      "execution_count": null,
      "metadata": {
        "id": "8tWfa7Y0yCkX"
      },
      "outputs": [],
      "source": [
        "# Download 20% data for Pizza/Steak/Sushi from GitHub\n",
        "import requests\n",
        "import zipfile\n",
        "from pathlib import Path\n",
        "\n",
        "# Setup path to data folder\n",
        "data_path = Path(\"data/\")\n",
        "image_path = data_path / \"pizza_steak_sushi_20_percent\"\n",
        "\n",
        "# If the image folder doesn't exist, download it and prepare it...\n",
        "if image_path.is_dir():\n",
        "    print(f\"{image_path} directory exists.\")\n",
        "else:\n",
        "    print(f\"Did not find {image_path} directory, creating one...\")\n",
        "    image_path.mkdir(parents=True, exist_ok=True)\n",
        "\n",
        "# Download pizza, steak, sushi data\n",
        "with open(data_path / \"pizza_steak_sushi_20_percent.zip\", \"wb\") as f:\n",
        "    request = requests.get(\"https://github.com/mrdbourke/pytorch-deep-learning/raw/main/data/pizza_steak_sushi_20_percent.zip\")\n",
        "    print(\"Downloading pizza, steak, sushi 20% data...\")\n",
        "    f.write(request.content)\n",
        "\n",
        "# Unzip pizza, steak, sushi data\n",
        "with zipfile.ZipFile(data_path / \"pizza_steak_sushi_20_percent.zip\", \"r\") as zip_ref:\n",
        "    print(\"Unzipping pizza, steak, sushi 20% data...\")\n",
        "    zip_ref.extractall(image_path)"
      ]
    },
    {
      "cell_type": "code",
      "execution_count": null,
      "metadata": {
        "id": "DrFK2ScnVg4q"
      },
      "outputs": [],
      "source": [
        "# See how many images we have\n",
        "walk_through_dir(image_path)"
      ]
    },
    {
      "cell_type": "markdown",
      "metadata": {
        "id": "WhlWd-z-Vk22"
      },
      "source": [
        "Excellent, we now have double the training and testing images..."
      ]
    },
    {
      "cell_type": "code",
      "execution_count": null,
      "metadata": {
        "id": "hNzXRfO1Tt1Q"
      },
      "outputs": [],
      "source": [
        "# Create the train and test paths\n",
        "train_data_20_percent_path = image_path / \"train\"\n",
        "test_data_20_percent_path = image_path / \"test\"\n",
        "\n",
        "train_data_20_percent_path, test_data_20_percent_path"
      ]
    },
    {
      "cell_type": "code",
      "execution_count": null,
      "metadata": {
        "id": "R1_xU3FQUPkN"
      },
      "outputs": [],
      "source": [
        "# Turn the 20 percent datapaths into Datasets and DataLoaders\n",
        "from torchvision.datasets import ImageFolder\n",
        "from torchvision import transforms\n",
        "from torch.utils.data import DataLoader\n",
        "\n",
        "simple_transform = transforms.Compose([\n",
        "  transforms.Resize((64, 64)),\n",
        "  transforms.ToTensor()\n",
        "])\n",
        "\n",
        "# Create datasets\n",
        "\n",
        "\n",
        "# Create dataloaders\n"
      ]
    },
    {
      "cell_type": "code",
      "execution_count": null,
      "metadata": {
        "id": "BuJ9YpRCVXRm"
      },
      "outputs": [],
      "source": [
        "# Train a model with increased amount of data\n",
        "torch.manual_seed(42)\n",
        "torch.cuda.manual_seed(42)"
      ]
    },
    {
      "cell_type": "markdown",
      "metadata": {
        "id": "bCCVfXk5xjYS"
      },
      "source": [
        "## 8. Make a prediction on your own custom image of pizza/steak/sushi (you could even download one from the internet) with your trained model from exercise 7 and share your prediction.\n",
        "* Does the model you trained in exercise 7 get it right?\n",
        "* If not, what do you think you could do to improve it?"
      ]
    },
    {
      "cell_type": "code",
      "execution_count": null,
      "metadata": {
        "id": "Q1X-33t0vT20"
      },
      "outputs": [],
      "source": []
    }
  ],
  "metadata": {
    "accelerator": "GPU",
    "colab": {
      "provenance": [],
      "include_colab_link": true
    },
    "kernelspec": {
      "display_name": "Python 3",
      "name": "python3"
    },
    "language_info": {
      "name": "python"
    }
  },
  "nbformat": 4,
  "nbformat_minor": 0
}