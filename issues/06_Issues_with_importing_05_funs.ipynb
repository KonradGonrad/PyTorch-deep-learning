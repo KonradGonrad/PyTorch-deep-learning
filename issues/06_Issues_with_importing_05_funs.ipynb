{
  "nbformat": 4,
  "nbformat_minor": 0,
  "metadata": {
    "colab": {
      "private_outputs": true,
      "provenance": []
    },
    "kernelspec": {
      "name": "python3",
      "display_name": "Python 3"
    },
    "language_info": {
      "name": "python"
    }
  },
  "cells": [
    {
      "cell_type": "code",
      "execution_count": null,
      "metadata": {
        "id": "C1eYriMgh_qS"
      },
      "outputs": [],
      "source": [
        "from pathlib import Path\n",
        "import requests\n",
        "\n",
        "Additional_func_path = Path('add/')\n",
        "\n",
        "if Additional_func_path.is_dir():\n",
        "  print(f'{Additional_func_path} already exists.')\n",
        "else:\n",
        "  print(f\"Can't find {Additional_func_path}. Creating one..\")\n",
        "  Additional_func_path.mkdir(parents=True, exist_ok = True)\n",
        "  with open(Additional_func_path / 'notebook_5.ipynb', 'wb') as f:\n",
        "    request = requests.get('https://github.com/KonradGonrad/PyTorch-deep-learning/raw/main/Kopia_notatnika_05_pytorch_going_modular_exercise_template.ipynb')\n",
        "\n",
        "    f.write(request.content)"
      ]
    },
    {
      "cell_type": "code",
      "source": [
        "!jupyter nbconvert --to script add/notebook_5.ipynb\n",
        "!mv add/notebook_5.txt add/notebook_5.py\n"
      ],
      "metadata": {
        "id": "mL5ozUk7iAnN"
      },
      "execution_count": null,
      "outputs": []
    },
    {
      "cell_type": "code",
      "source": [
        "!pip install nbimporter"
      ],
      "metadata": {
        "id": "iH0FyiuviBtM"
      },
      "execution_count": null,
      "outputs": []
    },
    {
      "cell_type": "code",
      "source": [
        "import sys\n",
        "from pathlib import Path\n",
        "\n",
        "sys.path.append(str(Path('add')))"
      ],
      "metadata": {
        "id": "EqgvLQe8iC0E"
      },
      "execution_count": null,
      "outputs": []
    },
    {
      "cell_type": "code",
      "source": [
        "sys.path"
      ],
      "metadata": {
        "id": "RjFZ64maiF5j"
      },
      "execution_count": null,
      "outputs": []
    },
    {
      "cell_type": "code",
      "source": [
        "import os\n",
        "\n",
        "code_path = 'add/notebook_5.py'\n",
        "\n",
        "with open(code_path, 'r') as file:\n",
        "  lines = file.readlines()\n",
        "\n",
        "  lines_to_keep = [line for i, line in enumerate(lines) if i <= 425]\n",
        "\n",
        "with open('add/notebook.py', 'w') as file:\n",
        "  file.writelines(lines_to_keep)\n",
        "\n",
        "os.remove(code_path)\n",
        "os.remove('add/notebook_5.ipynb')"
      ],
      "metadata": {
        "id": "3Ue4GD4RiGIb"
      },
      "execution_count": null,
      "outputs": []
    },
    {
      "cell_type": "code",
      "source": [
        "import nbimporter\n",
        "\n",
        "from notebook import prepare_data"
      ],
      "metadata": {
        "id": "6gEYrSq5iU7r"
      },
      "execution_count": null,
      "outputs": []
    },
    {
      "cell_type": "code",
      "source": [],
      "metadata": {
        "id": "qhu47CXPiig7"
      },
      "execution_count": null,
      "outputs": []
    }
  ]
}