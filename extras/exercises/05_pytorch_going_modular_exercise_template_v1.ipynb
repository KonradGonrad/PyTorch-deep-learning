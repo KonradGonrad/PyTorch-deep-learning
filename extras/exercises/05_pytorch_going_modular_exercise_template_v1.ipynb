{
  "nbformat": 4,
  "nbformat_minor": 0,
  "metadata": {
    "colab": {
      "name": "05_pytorch_going_modular_exercise_template.ipynb",
      "provenance": [],
      "include_colab_link": true
    },
    "kernelspec": {
      "name": "python3",
      "display_name": "Python 3"
    },
    "language_info": {
      "name": "python"
    },
    "accelerator": "GPU"
  },
  "cells": [
    {
      "cell_type": "markdown",
      "metadata": {
        "id": "view-in-github",
        "colab_type": "text"
      },
      "source": [
        "<a href=\"https://colab.research.google.com/github/KonradGonrad/PyTorch-deep-learning/blob/main/extras/exercises/05_pytorch_going_modular_exercise_template_v1.ipynb\" target=\"_parent\"><img src=\"https://colab.research.google.com/assets/colab-badge.svg\" alt=\"Open In Colab\"/></a>"
      ]
    },
    {
      "cell_type": "markdown",
      "source": [
        "# 05. PyTorch Going Modular Exercises\n",
        "\n",
        "Welcome to the 05. PyTorch Going Modular exercise template notebook.\n",
        "\n",
        "There are several questions in this notebook and it's your goal to answer them by writing Python and PyTorch code.\n",
        "\n",
        "> **Note:** There may be more than one solution to each of the exercises, don't worry too much about the *exact* right answer. Try to write some code that works first and then improve it if you can.\n",
        "\n",
        "## Resources and solutions\n",
        "\n",
        "* These exercises/solutions are based on [section 05. PyTorch Going Modular](https://www.learnpytorch.io/05_pytorch_going_modular/) of the Learn PyTorch for Deep Learning course by Zero to Mastery.\n",
        "\n",
        "**Solutions:**\n",
        "\n",
        "Try to complete the code below *before* looking at these.\n",
        "\n",
        "* See a live [walkthrough of the solutions (errors and all) on YouTube](https://youtu.be/ijgFhMK3pp4).\n",
        "* See an example [solutions notebook for these exercises on GitHub](https://github.com/mrdbourke/pytorch-deep-learning/blob/main/extras/solutions/05_pytorch_going_modular_exercise_solutions.ipynb)."
      ],
      "metadata": {
        "id": "zNqPNlYylluR"
      }
    },
    {
      "cell_type": "markdown",
      "source": [
        "## 1. Turn the code to get the data (from section 1. Get Data) into a Python script, such as `get_data.py`.\n",
        "\n",
        "* When you run the script using `python get_data.py` it should check if the data already exists and skip downloading if it does.\n",
        "* If the data download is successful, you should be able to access the `pizza_steak_sushi` images from the `data` directory."
      ],
      "metadata": {
        "id": "bicbWSrPmfTU"
      }
    },
    {
      "cell_type": "code",
      "source": [
        "%%writefile get_data.py\n",
        "\"\"\"\n",
        "Script that download data and unpack it in data folder.\n",
        "\"\"\"\n",
        "# YOUR CODE HERE\n",
        "import os\n",
        "from pathlib import Path\n",
        "import requests\n",
        "import zipfile\n",
        "import torchvision\n",
        "from torchvision import transforms\n",
        "from torchvision.datasets import ImageFolder\n",
        "\n",
        "BATCH_SIZE = 1\n",
        "SIMPLE_TRANSFORM = transforms.Compose([\n",
        "    transforms.Resize(size=(64, 64)),\n",
        "    transforms.ToTensor()\n",
        "])\n",
        "\n",
        "DATA_PATH = Path(\"data/\")\n",
        "IMAGE_PATH = DATA_PATH / 'pizza_steak_sushi'\n",
        "\n",
        "TRAIN_PATH = IMAGE_PATH / 'train'\n",
        "TEST_PATH = IMAGE_PATH / 'test'\n",
        "\n",
        "if IMAGE_PATH.is_dir():\n",
        "  print(f'Directory: {IMAGE_PATH} already exists.')\n",
        "else:\n",
        "  IMAGE_PATH.mkdir(parents=True, exist_ok=True)\n",
        "\n",
        "  with open(DATA_PATH / \"pizza_steak_sushi.zip\", 'wb') as f:\n",
        "    request = requests.get('https://github.com/mrdbourke/pytorch-deep-learning/raw/main/data/pizza_steak_sushi.zip')\n",
        "    f.write(request.content)\n",
        "\n",
        "  with zipfile.ZipFile(DATA_PATH / \"pizza_steak_sushi.zip\", 'r') as zipf:\n",
        "    zipf.extractall(IMAGE_PATH)\n",
        "\n",
        "  os.remove(DATA_PATH / 'pizza_steak_sushi.zip')\n",
        "\n",
        "def prepare_data(train_path: Path,\n",
        "                 test_path: Path,\n",
        "                 transform: torchvision.transforms) -> dict():\n",
        "  \"\"\"\n",
        "  Function to prepare data (train/test data, train/test dataloaders and class_names) and return it as a dict\n",
        "  Returns dict\n",
        "  \"\"\"\n",
        "\n",
        "  prepared_data = {'train_data': None,\n",
        "                   'test_data': None,\n",
        "                   'train_dataloader': None,\n",
        "                   'test_dataloader': None,\n",
        "                   'class_names': None}\n",
        "\n",
        "  # Train data\n",
        "  train_data = ImageFolder(train_path,\n",
        "                          transform=transform,\n",
        "                          target_transform=None)\n",
        "\n",
        "  test_data = ImageFolder(test_path,\n",
        "                          transform = transform,\n",
        "                          target_transform=None)\n",
        "\n",
        "  # Dataloaders\n",
        "  train_dataloader = DataLoader(train_data,\n",
        "                                batch_size=BATCH_SIZE,\n",
        "                                shuffle=True)\n",
        "\n",
        "  test_dataloader = DataLoader(test_data,\n",
        "                              batch_size=BATCH_SIZE,\n",
        "                              shuffle=False)\n",
        "\n",
        "  # Class names\n",
        "  class_names = test_data.classes\n",
        "\n",
        "  prepared_data['train_data'], prepared_data['test_data'] = train_data, test_data\n",
        "  prepared_data['train_dataloader'], prepared_data['test_dataloader'] = train_dataloader, test_dataloader\n",
        "  prepared_data['class_names'] = class_names\n",
        "\n",
        "  return prepared_data"
      ],
      "metadata": {
        "id": "r0BCn1XIYZ8c",
        "outputId": "e88425f9-207a-42e6-a477-0a691355bd9f",
        "colab": {
          "base_uri": "https://localhost:8080/"
        }
      },
      "execution_count": 48,
      "outputs": [
        {
          "output_type": "stream",
          "name": "stdout",
          "text": [
            "Directory: data/pizza_steak_sushi already exists.\n"
          ]
        }
      ]
    },
    {
      "cell_type": "code",
      "source": [
        "# Example running of get_data.py\n",
        "!python get_data.py"
      ],
      "metadata": {
        "id": "_LrUOIC-YOP9"
      },
      "execution_count": 2,
      "outputs": []
    },
    {
      "cell_type": "markdown",
      "source": [
        "## 2. Use [Python's `argparse` module](https://docs.python.org/3/library/argparse.html) to be able to send the `train.py` custom hyperparameter values for training procedures.\n",
        "* Add an argument flag for using a different:\n",
        "  * Training/testing directory\n",
        "  * Learning rate\n",
        "  * Batch size\n",
        "  * Number of epochs to train for\n",
        "  * Number of hidden units in the TinyVGG model\n",
        "    * Keep the default values for each of the above arguments as what they already are (as in notebook 05).\n",
        "* For example, you should be able to run something similar to the following line to train a TinyVGG model with a learning rate of 0.003 and a batch size of 64 for 20 epochs: `python train.py --learning_rate 0.003 batch_size 64 num_epochs 20`.\n",
        "* **Note:** Since `train.py` leverages the other scripts we created in section 05, such as, `model_builder.py`, `utils.py` and `engine.py`, you'll have to make sure they're available to use too. You can find these in the [`going_modular` folder on the course GitHub](https://github.com/mrdbourke/pytorch-deep-learning/tree/main/going_modular/going_modular)."
      ],
      "metadata": {
        "id": "zjyn7LU3mvkR"
      }
    },
    {
      "cell_type": "code",
      "source": [
        "%%writefile model.py\n",
        "\n",
        "from torch import nn\n",
        "import torch\n",
        "\n",
        "class TinyVGG(nn.Module):\n",
        "  def __init__(self,\n",
        "               input_channels:int,\n",
        "               hidden_channels:int,\n",
        "               output_channels:int):\n",
        "    super().__init__()\n",
        "    self.layer_1 = nn.Sequential(\n",
        "        nn.Conv2d(in_channels=input_channels,\n",
        "                  out_channels=hidden_channels,\n",
        "                  kernel_size=3,\n",
        "                  stride=1,\n",
        "                  padding=0),\n",
        "        nn.ReLU(),\n",
        "        nn.Conv2d(in_channels=hidden_channels,\n",
        "                  out_channels=hidden_channels,\n",
        "                  kernel_size=3,\n",
        "                  stride=1,\n",
        "                  padding=0),\n",
        "        nn.ReLU(),\n",
        "        nn.MaxPool2d(kernel_size=2,\n",
        "                     stride=2,\n",
        "                     padding=0)\n",
        "    )\n",
        "    self.layer_2 = nn.Sequential(\n",
        "        nn.Conv2d(in_channels=hidden_channels,\n",
        "                  out_channels=hidden_channels,\n",
        "                  kernel_size=3,\n",
        "                  stride=1,\n",
        "                  padding=0),\n",
        "        nn.ReLU(),\n",
        "        nn.Conv2d(in_channels=hidden_channels,\n",
        "                  out_channels=hidden_channels,\n",
        "                  kernel_size=3,\n",
        "                  stride=1,\n",
        "                  padding=0),\n",
        "        nn.ReLU(),\n",
        "        nn.MaxPool2d(kernel_size=2,\n",
        "                     stride=2,\n",
        "                     padding=0)\n",
        "    )\n",
        "    self.classifier = nn.Sequential(\n",
        "        nn.Flatten(),\n",
        "        nn.Linear(in_features = hidden_channels * 13 * 13,\n",
        "                  out_features = output_channels)\n",
        "    )\n",
        "  def forward(self, x):\n",
        "    x = self.layer_1(x)\n",
        "    print(x.shape)\n",
        "    x = self.layer_2(x)\n",
        "    print(x.shape)\n",
        "    x = self.classifier(x)\n",
        "    return x"
      ],
      "metadata": {
        "id": "Scvrzvkxnef0",
        "outputId": "5f5c8b0e-6ac9-41d0-bb84-89096eb20d4a",
        "colab": {
          "base_uri": "https://localhost:8080/"
        }
      },
      "execution_count": 26,
      "outputs": [
        {
          "output_type": "stream",
          "name": "stdout",
          "text": [
            "Writing model.py\n"
          ]
        }
      ]
    },
    {
      "cell_type": "code",
      "source": [
        "%%writefile utils.py\n",
        "\n",
        "from torch.utils.data import DataLoader\n",
        "import torch\n",
        "from torch import nn\n",
        "from typing import Tuple\n",
        "\n",
        "def train_step(dataloader: DataLoader,\n",
        "               model:nn.Module,\n",
        "               loss_fn:nn.Module,\n",
        "               optimizer:torch.optim,\n",
        "               device:torch.device\n",
        "               ) -> Tuple[float, float]:\n",
        "  \"\"\"\n",
        "  Training step for a model as a function.\n",
        "  Returns train_loss and train step\n",
        "  \"\"\"\n",
        "  model.train()\n",
        "\n",
        "  train_loss, train_acc = 0, 0\n",
        "  for batch, (X, y) in enumerate(dataloader):\n",
        "    X, y = X.to(device), y.to(device)\n",
        "    # Forward pass\n",
        "    y_logit = model(X)\n",
        "\n",
        "    # Calculate the loss\n",
        "    loss = loss_fn(y_logit, y)\n",
        "    train_loss += loss.item()\n",
        "\n",
        "    # Optimizer zero grad\n",
        "    optimizer.zero_grad()\n",
        "\n",
        "    # Loss backward\n",
        "    loss.backward()\n",
        "\n",
        "    # Optimizer step step\n",
        "    optimizer.step()\n",
        "\n",
        "    # Accuracy\n",
        "    y_pred_labels = torch.argmax(torch.softmax(y_logit, dim=1), dim=1)\n",
        "    train_acc += ((y_pred_labels == y).sum().item()/len(y))\n",
        "  train_loss /= len(dataloader)\n",
        "  train_acc /= len(dataloader)\n",
        "\n",
        "  return train_loss, train_acc\n",
        "\n",
        "def test_step(dataloader: DataLoader,\n",
        "              model: nn.Module,\n",
        "              loss_fn: nn.Module,\n",
        "              device: torch.device) -> Tuple[float, float]:\n",
        "  \"\"\"\n",
        "  Testing step for model in a function\n",
        "  Returns test_loss and test_acc\n",
        "  \"\"\"\n",
        "  test_loss, test_acc = 0, 0\n",
        "\n",
        "  model.eval()\n",
        "\n",
        "  with torch.inference_mode():\n",
        "    for batch, (X, y) in enumerate(dataloader):\n",
        "      X, y = X.to(device), y.to(device)\n",
        "    # Forward pass\n",
        "      y_logit = model(X)\n",
        "\n",
        "    # Calculate the loss\n",
        "      loss = loss_fn(y_logit, y)\n",
        "      test_loss += loss\n",
        "\n",
        "    # Calculate acc\n",
        "      test_pred_labels = torch.argmax(torch.softmax(y_logit, dim=1), dim=1)\n",
        "      test_acc = ((test_pred_labels == y).sum().item() / len(y))\n",
        "\n",
        "  test_loss /= len(dataloader)\n",
        "  test_acc /= len(dataloader)\n",
        "\n",
        "  return test_loss, test_acc"
      ],
      "metadata": {
        "id": "DXMw4sCRkds-",
        "outputId": "76806c2a-d855-40b5-cf7a-1c15e85708e8",
        "colab": {
          "base_uri": "https://localhost:8080/"
        }
      },
      "execution_count": 27,
      "outputs": [
        {
          "output_type": "stream",
          "name": "stdout",
          "text": [
            "Overwriting utils.py\n"
          ]
        }
      ]
    },
    {
      "cell_type": "code",
      "source": [
        "# YOUR CODE HERE\n",
        "import torch\n",
        "from torch import nn\n",
        "import os\n",
        "from tqdm.auto import tqdm\n",
        "from timeit import default_timer as timer\n",
        "\n",
        "import model\n",
        "import utils\n",
        "\n",
        "def train(train_dir: os.path,\n",
        "          test_dir: os.path,\n",
        "          model: nn.Module,\n",
        "          optimizer: torch.optim,\n",
        "          lr:int,\n",
        "          loss_fn:nn.Module,\n",
        "\n",
        "          batch_size:int,\n",
        "          epochs:int):\n",
        "  start_train = timer()\n",
        "\n",
        "  for epoch in tqdm(range(epochs)):\n",
        "    utils.test_step()\n",
        ""
      ],
      "metadata": {
        "id": "MKNDUp45YaW-"
      },
      "execution_count": 30,
      "outputs": []
    },
    {
      "cell_type": "code",
      "source": [
        "# Example running of train.py\n",
        "!python train.py --num_epochs 5 --batch_size 128 --hidden_units 128 --learning_rate 0.0003"
      ],
      "metadata": {
        "id": "LzaJl39lC40N"
      },
      "execution_count": null,
      "outputs": []
    },
    {
      "cell_type": "markdown",
      "source": [
        "## 3. Create a Python script to predict (such as `predict.py`) on a target image given a file path with a saved model.\n",
        "\n",
        "* For example, you should be able to run the command `python predict.py some_image.jpeg` and have a trained PyTorch model predict on the image and return its prediction.\n",
        "* To see example prediction code, check out the [predicting on a custom image section in notebook 04](https://www.learnpytorch.io/04_pytorch_custom_datasets/#113-putting-custom-image-prediction-together-building-a-function).\n",
        "* You may also have to write code to load in a trained model."
      ],
      "metadata": {
        "id": "P2g6EEYvm-46"
      }
    },
    {
      "cell_type": "code",
      "source": [
        "# YOUR CODE HERE"
      ],
      "metadata": {
        "id": "HU7W6VZfYawP"
      },
      "execution_count": null,
      "outputs": []
    },
    {
      "cell_type": "code",
      "source": [
        "# Example running of predict.py\n",
        "!python predict.py --image data/pizza_steak_sushi/test/sushi/175783.jpg"
      ],
      "metadata": {
        "id": "Zcvw9sitIn6r"
      },
      "execution_count": null,
      "outputs": []
    }
  ]
}