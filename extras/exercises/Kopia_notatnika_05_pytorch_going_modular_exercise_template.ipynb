{
  "nbformat": 4,
  "nbformat_minor": 0,
  "metadata": {
    "colab": {
      "provenance": [],
      "include_colab_link": true
    },
    "kernelspec": {
      "name": "python3",
      "display_name": "Python 3"
    },
    "language_info": {
      "name": "python"
    }
  },
  "cells": [
    {
      "cell_type": "markdown",
      "metadata": {
        "id": "view-in-github",
        "colab_type": "text"
      },
      "source": [
        "<a href=\"https://colab.research.google.com/github/KonradGonrad/PyTorch-deep-learning/blob/main/Kopia_notatnika_05_pytorch_going_modular_exercise_template.ipynb\" target=\"_parent\"><img src=\"https://colab.research.google.com/assets/colab-badge.svg\" alt=\"Open In Colab\"/></a>"
      ]
    },
    {
      "cell_type": "markdown",
      "source": [
        "# 05. PyTorch Going Modular Exercises\n",
        "\n",
        "Welcome to the 05. PyTorch Going Modular exercise template notebook.\n",
        "\n",
        "There are several questions in this notebook and it's your goal to answer them by writing Python and PyTorch code.\n",
        "\n",
        "> **Note:** There may be more than one solution to each of the exercises, don't worry too much about the *exact* right answer. Try to write some code that works first and then improve it if you can.\n",
        "\n",
        "## Resources and solutions\n",
        "\n",
        "* These exercises/solutions are based on [section 05. PyTorch Going Modular](https://www.learnpytorch.io/05_pytorch_going_modular/) of the Learn PyTorch for Deep Learning course by Zero to Mastery.\n",
        "\n",
        "**Solutions:**\n",
        "\n",
        "Try to complete the code below *before* looking at these.\n",
        "\n",
        "* See a live [walkthrough of the solutions (errors and all) on YouTube](https://youtu.be/ijgFhMK3pp4).\n",
        "* See an example [solutions notebook for these exercises on GitHub](https://github.com/mrdbourke/pytorch-deep-learning/blob/main/extras/solutions/05_pytorch_going_modular_exercise_solutions.ipynb)."
      ],
      "metadata": {
        "id": "zNqPNlYylluR"
      }
    },
    {
      "cell_type": "markdown",
      "source": [
        "## 1. Turn the code to get the data (from section 1. Get Data) into a Python script, such as `get_data.py`.\n",
        "\n",
        "* When you run the script using `python get_data.py` it should check if the data already exists and skip downloading if it does.\n",
        "* If the data download is successful, you should be able to access the `pizza_steak_sushi` images from the `data` directory."
      ],
      "metadata": {
        "id": "bicbWSrPmfTU"
      }
    },
    {
      "cell_type": "code",
      "source": [
        "%%writefile get_data.py\n",
        "# YOUR CODE HERE\n",
        "from pathlib import Path\n",
        "import requests\n",
        "import zipfile\n",
        "import os\n",
        "\n",
        "DATA_PATH = Path('data/')\n",
        "IMAGES_PATH = DATA_PATH / 'pizza_steak_sushi'\n",
        "\n",
        "if IMAGES_PATH.is_dir():\n",
        "  print(f'{IMAGES_PATH} already exists.')\n",
        "else:\n",
        "  IMAGES_PATH.mkdir(parents=True, exist_ok=True)\n",
        "\n",
        "  with open(DATA_PATH / 'pizza_steak_sushi.zip', 'wb') as f:\n",
        "    request = requests.get('https://github.com/mrdbourke/pytorch-deep-learning/raw/main/data/pizza_steak_sushi.zip')\n",
        "    f.write(request.content)\n",
        "\n",
        "  with zipfile.ZipFile(DATA_PATH / 'pizza_steak_sushi.zip', 'r') as zipf:\n",
        "    zipf.extractall(IMAGES_PATH)\n",
        "\n",
        "  os.remove(DATA_PATH / 'pizza_steak_sushi.zip')"
      ],
      "metadata": {
        "id": "r0BCn1XIYZ8c",
        "outputId": "81dc88d8-1b5e-4e0f-8861-b9ba4dd73450",
        "colab": {
          "base_uri": "https://localhost:8080/"
        }
      },
      "execution_count": 1,
      "outputs": [
        {
          "output_type": "stream",
          "name": "stdout",
          "text": [
            "Writing get_data.py\n"
          ]
        }
      ]
    },
    {
      "cell_type": "code",
      "source": [
        "# Example running of get_data.py\n",
        "!python get_data.py"
      ],
      "metadata": {
        "id": "_LrUOIC-YOP9"
      },
      "execution_count": 2,
      "outputs": []
    },
    {
      "cell_type": "markdown",
      "source": [
        "## 2. Use [Python's `argparse` module](https://docs.python.org/3/library/argparse.html) to be able to send the `train.py` custom hyperparameter values for training procedures.\n",
        "* Add an argument flag for using a different:\n",
        "  * Training/testing directory\n",
        "  * Learning rate\n",
        "  * Batch size\n",
        "  * Number of epochs to train for\n",
        "  * Number of hidden units in the TinyVGG model\n",
        "    * Keep the default values for each of the above arguments as what they already are (as in notebook 05).\n",
        "* For example, you should be able to run something similar to the following line to train a TinyVGG model with a learning rate of 0.003 and a batch size of 64 for 20 epochs: `python train.py --learning_rate 0.003 batch_size 64 num_epochs 20`.\n",
        "* **Note:** Since `train.py` leverages the other scripts we created in section 05, such as, `model_builder.py`, `utils.py` and `engine.py`, you'll have to make sure they're available to use too. You can find these in the [`going_modular` folder on the course GitHub](https://github.com/mrdbourke/pytorch-deep-learning/tree/main/going_modular/going_modular)."
      ],
      "metadata": {
        "id": "zjyn7LU3mvkR"
      }
    },
    {
      "cell_type": "code",
      "source": [
        "%%writefile model_builder.py\n",
        "\n",
        "import torch\n",
        "from torch import nn\n",
        "\n",
        "class TinyVGG(nn.Module):\n",
        "  def __init__(self,\n",
        "               input_channels: int,\n",
        "               hidden_channels: int,\n",
        "               output_channels: int):\n",
        "    super().__init__()\n",
        "    self.layer_1 = nn.Sequential(\n",
        "        nn.Conv2d(in_channels=input_channels,\n",
        "                  out_channels=hidden_channels,\n",
        "                  kernel_size=3,\n",
        "                  stride=1,\n",
        "                  padding=1),\n",
        "        nn.ReLU(),\n",
        "        nn.Conv2d(in_channels=hidden_channels,\n",
        "                  out_channels=hidden_channels,\n",
        "                  kernel_size=3,\n",
        "                  stride=1,\n",
        "                  padding=0),\n",
        "        nn.ReLU(),\n",
        "        nn.MaxPool2d(kernel_size=2,\n",
        "                     stride=2,\n",
        "                     padding=0)\n",
        "    )\n",
        "    self.layer_2 = nn.Sequential(\n",
        "        nn.Conv2d(in_channels=hidden_channels,\n",
        "                  out_channels=hidden_channels,\n",
        "                  kernel_size=3,\n",
        "                  stride=1,\n",
        "                  padding=0),\n",
        "        nn.ReLU(),\n",
        "        nn.Conv2d(in_channels=hidden_channels,\n",
        "                  out_channels=hidden_channels,\n",
        "                  kernel_size=3,\n",
        "                  stride=1,\n",
        "                  padding=0),\n",
        "        nn.ReLU(),\n",
        "        nn.MaxPool2d(kernel_size=2,\n",
        "                     stride=2,\n",
        "                     padding=0)\n",
        "    )\n",
        "    self.classifier = nn.Sequential(\n",
        "        nn.Flatten(),\n",
        "        nn.Linear(in_features = hidden_channels * 13 * 13,\n",
        "                  out_features=output_channels)\n",
        "    )\n",
        "\n",
        "  def forward(self, x):\n",
        "    x = self.layer_1(x)\n",
        "    #print(x.shape)\n",
        "    x = self.layer_2(x)\n",
        "    #print(x.shape)\n",
        "    x = self.classifier(x)\n",
        "    return x"
      ],
      "metadata": {
        "id": "rRoRMeHgeQdp",
        "outputId": "3299478d-008c-4ffb-be74-ed9e885d25f0",
        "colab": {
          "base_uri": "https://localhost:8080/"
        }
      },
      "execution_count": 3,
      "outputs": [
        {
          "output_type": "stream",
          "name": "stdout",
          "text": [
            "Writing model_builder.py\n"
          ]
        }
      ]
    },
    {
      "cell_type": "code",
      "source": [
        "%%writefile data_setup.py\n",
        "\n",
        "from torchvision import datasets, transforms\n",
        "from torch.utils.data import DataLoader\n",
        "\n",
        "from get_data import IMAGES_PATH\n",
        "\n",
        "TRAIN_DIR = IMAGES_PATH / 'train'\n",
        "TEST_DIR = IMAGES_PATH / 'test'\n",
        "BATCH_SIZE = 1\n",
        "\n",
        "simple_transform = transforms.Compose([\n",
        "    transforms.Resize(size=(64, 64)),\n",
        "    transforms.ToTensor()\n",
        "])\n",
        "\n",
        "def prepare_data(transforms: transforms = simple_transform,\n",
        "                 train_dir: str = TRAIN_DIR,\n",
        "                 test_dir: str = TEST_DIR,\n",
        "                 batch_size: int = BATCH_SIZE\n",
        "                 ):\n",
        "  \"\"\"\n",
        "    Function that prepares data and transform it into dict of train_data, test_data, train_dataloader, test_dataloader and class_names.\n",
        "    Returns dict\n",
        "  \"\"\"\n",
        "  prepared_data = {\n",
        "      'class_names': None,\n",
        "      'train_data' : None,\n",
        "      'test_data' : None,\n",
        "      'train_dataloader' : None,\n",
        "      'test_dataloader' : None\n",
        "  }\n",
        "\n",
        "  train_data = datasets.ImageFolder(root=train_dir,\n",
        "                                    transform = transforms,\n",
        "                                    target_transform= None)\n",
        "\n",
        "  test_data = datasets.ImageFolder(root=test_dir,\n",
        "                                   transform=transforms,\n",
        "                                   target_transform=None)\n",
        "\n",
        "  class_names = train_data.classes\n",
        "\n",
        "  train_dataloader = DataLoader(train_data,\n",
        "                                batch_size=batch_size,\n",
        "                                shuffle=True)\n",
        "\n",
        "  test_dataloader = DataLoader(test_data,\n",
        "                               batch_size=batch_size,\n",
        "                               shuffle=False)\n",
        "\n",
        "  prepared_data['class_names'] = class_names\n",
        "  prepared_data['train_data'] = train_data\n",
        "  prepared_data['test_data'] = test_data\n",
        "  prepared_data['train_dataloader'] = train_dataloader\n",
        "  prepared_data['test_dataloader'] = test_dataloader\n",
        "\n",
        "  return prepared_data"
      ],
      "metadata": {
        "id": "v-0w75qoZJdQ",
        "outputId": "70dbc4f0-88c4-4c87-fd12-52e502d645a0",
        "colab": {
          "base_uri": "https://localhost:8080/"
        }
      },
      "execution_count": 4,
      "outputs": [
        {
          "output_type": "stream",
          "name": "stdout",
          "text": [
            "Writing data_setup.py\n"
          ]
        }
      ]
    },
    {
      "cell_type": "code",
      "source": [
        "%%writefile engine.py\n",
        "\n",
        "# YOUR CODE HERE\n",
        "from torch import nn\n",
        "import torch\n",
        "from torch.utils.data import DataLoader\n",
        "from tqdm.auto import tqdm\n",
        "\n",
        "def train_step(model: nn.Module,\n",
        "               train_dataloader: DataLoader,\n",
        "               loss_fn: nn.Module,\n",
        "               optimizer: torch.optim,\n",
        "               device: torch.device):\n",
        "  model.train()\n",
        "\n",
        "  train_loss, train_acc = 0, 0\n",
        "\n",
        "  for batch, (X, y) in enumerate(train_dataloader):\n",
        "    X, y = X.to(device), y.to(device)\n",
        "    # Forward pass\n",
        "    y_logit = model(X)\n",
        "    # Calculate the loss\n",
        "    loss = loss_fn(y_logit, y)\n",
        "    train_loss += loss.item()\n",
        "    # Optimizer zero grad\n",
        "    optimizer.zero_grad()\n",
        "    # loss backward\n",
        "    loss.backward()\n",
        "    # Optimizer step\n",
        "    optimizer.step()\n",
        "    # Calculate accuracy\n",
        "    y_label = torch.argmax(torch.softmax(y_logit, dim = 1), dim = 1)\n",
        "    train_acc += ((y_label == y).sum().item() / len(y_label))\n",
        "  train_loss /= len(train_dataloader)\n",
        "  train_acc /= len(train_dataloader)\n",
        "\n",
        "  return train_loss, train_acc\n",
        "\n",
        "def test_step(model: nn.Module,\n",
        "              test_dataloader: DataLoader,\n",
        "              loss_fn: nn.Module,\n",
        "              device: torch.device):\n",
        "  test_loss, test_acc = 0, 0\n",
        "\n",
        "  model.eval()\n",
        "\n",
        "  with torch.inference_mode():\n",
        "    for batch, (X, y) in enumerate(test_dataloader):\n",
        "      X, y = X.to(device), y.to(device)\n",
        "      # Forward pass\n",
        "      y_logit = model(X)\n",
        "      # Calculate the loss\n",
        "      loss = loss_fn(y_logit, y)\n",
        "      test_loss += loss.item()\n",
        "      # Calculate the acc\n",
        "      y_label = torch.argmax(torch.softmax(y_logit, dim=1), dim=1)\n",
        "      test_acc += ((y_label == y).sum().item() / len(y_label))\n",
        "  test_loss /= len(test_dataloader)\n",
        "  test_acc /= len(test_dataloader)\n",
        "\n",
        "  return test_loss, test_acc\n",
        "\n",
        "def train(model: nn.Module,\n",
        "          test_dataloader: DataLoader,\n",
        "          train_dataloader: DataLoader,\n",
        "          optimizer: torch.optim,\n",
        "          loss_fn: nn.Module,\n",
        "          epochs: int,\n",
        "          device: torch.device):\n",
        "\n",
        "  results = {\n",
        "      'epoch' : [],\n",
        "      'train_loss': [],\n",
        "      'train_acc' : [],\n",
        "      'test_loss' : [],\n",
        "      'test_acc' : []\n",
        "  }\n",
        "\n",
        "  for epoch in tqdm(range(epochs)):\n",
        "    train_loss, train_acc = train_step(model=model,\n",
        "                                       train_dataloader=train_dataloader,\n",
        "                                       loss_fn=loss_fn,\n",
        "                                       optimizer=optimizer,\n",
        "                                       device=device)\n",
        "\n",
        "    test_loss, test_acc = test_step(model=model,\n",
        "                                    test_dataloader=test_dataloader,\n",
        "                                    loss_fn=loss_fn,\n",
        "                                    device=device)\n",
        "\n",
        "    print(\n",
        "        f'Epoch: {epoch + 1} |'\n",
        "        f'train_loss: {train_loss:.4f} |'\n",
        "        f'train_accuracy: {train_acc:.4f} |'\n",
        "        f'test_loss: {test_loss:.4f} |'\n",
        "        f'test_accuracy: {test_acc:.4f}'\n",
        "    )\n",
        "\n",
        "    results['epoch'].append(epoch + 1)\n",
        "    results['train_loss'].append(train_loss)\n",
        "    results['train_acc'].append(train_acc)\n",
        "    results['test_loss'].append(test_loss)\n",
        "    results['test_acc'].append(test_acc)\n",
        "\n",
        "  return results"
      ],
      "metadata": {
        "id": "MKNDUp45YaW-",
        "outputId": "57f384e2-d777-42c6-9769-3e00b5beee65",
        "colab": {
          "base_uri": "https://localhost:8080/"
        }
      },
      "execution_count": 5,
      "outputs": [
        {
          "output_type": "stream",
          "name": "stdout",
          "text": [
            "Writing engine.py\n"
          ]
        }
      ]
    },
    {
      "cell_type": "code",
      "source": [
        "%%writefile utils.py\n",
        "\n",
        "import torch\n",
        "from pathlib import Path\n",
        "from torch import nn\n",
        "\n",
        "def save_model(model: nn.Module,\n",
        "               target_dir: str,\n",
        "               model_name: str):\n",
        "\n",
        "  target_dir_path = Path(target_dir)\n",
        "  target_dir_path.mkdir(parents=True,\n",
        "                        exist_ok=True)\n",
        "\n",
        "  assert model_name.endswith('.pth') or model_name.endswith('.pt'), 'model_name needs to end with \".pth\" or \".ph\"'\n",
        "  model_save_path = target_dir_path / model_name\n",
        "\n",
        "  torch.save(obj=model.state_dict(),\n",
        "             f=model_save_path)"
      ],
      "metadata": {
        "colab": {
          "base_uri": "https://localhost:8080/"
        },
        "id": "qI3ujpMRoD_V",
        "outputId": "e9a360c0-d841-4066-a70c-ec72ef23e7a9"
      },
      "execution_count": 9,
      "outputs": [
        {
          "output_type": "stream",
          "name": "stdout",
          "text": [
            "Overwriting utils.py\n"
          ]
        }
      ]
    },
    {
      "cell_type": "code",
      "source": [
        "%%writefile train.py\n",
        "\n",
        "import os\n",
        "import torch\n",
        "import engine, data_setup, model_builder, utils\n",
        "from torchvision import transforms\n",
        "import argparse\n",
        "from pathlib import Path\n",
        "from torch import nn\n",
        "\n",
        "torch.manual_seed(42)\n",
        "torch.cuda.manual_seed(42)\n",
        "\n",
        "def parse_args():\n",
        "  parser = argparse.ArgumentParser(description='Parser to change default parameters')\n",
        "\n",
        "  parser.add_argument('--num_epochs', type=int, default=5, help='How much epochs')\n",
        "  parser.add_argument('--batch_size', type=int, default=1,\n",
        "                      help='How much samples per batch')\n",
        "  parser.add_argument('--hidden_units', type=int, default=10,\n",
        "                      help='Number of hidden layers in model')\n",
        "  parser.add_argument('--learning_rate', type=float, default=0.001,\n",
        "                      help='Float number of learning rate in optimizer. Deafult: 0.001')\n",
        "  parser.add_argument('--train_dir', type=str, default=Path('data/pizza_steak_sushi/train'),\n",
        "                      help='Path of the train direction')\n",
        "  parser.add_argument('--test_dir', type=str, default=Path('data/pizza_steak_sushi/test'),\n",
        "                      help='Path of the test direction')\n",
        "  parser.add_argument('--device', type = str, choices=['cuda', 'cpu'], default= 'cuda' if torch.cuda.is_available() else 'cpu', )\n",
        "  parser.add_argument('--model_name', type=str, default='model_0.pth')\n",
        "\n",
        "  return parser.parse_args()\n",
        "\n",
        "def main():\n",
        "  args = parse_args()\n",
        "\n",
        "  MODEL_NAME = args.model_name\n",
        "  NUM_EPOCHS = args.num_epochs\n",
        "  BATCH_SIZE = args.batch_size\n",
        "  HIDDEN_UNITS = args.hidden_units\n",
        "  LEARNING_RATE = args.hidden_units\n",
        "\n",
        "  TRAIN_DIR = args.train_dir\n",
        "  TEST_DIR = args.test_dir\n",
        "\n",
        "  DEVICE  = args.device\n",
        "  SIMPLE_TRANSFORM = transforms.Compose([\n",
        "    transforms.Resize(size=(64, 64)),\n",
        "    transforms.ToTensor()\n",
        "  ])\n",
        "\n",
        "  prepared_data = data_setup.prepare_data(transforms=SIMPLE_TRANSFORM,\n",
        "                                          train_dir=TRAIN_DIR,\n",
        "                                          test_dir=TEST_DIR,\n",
        "                                          batch_size=BATCH_SIZE)\n",
        "\n",
        "  train_dataloader = prepared_data['train_dataloader']\n",
        "  test_dataloader = prepared_data['test_dataloader']\n",
        "  class_names = prepared_data['class_names']\n",
        "\n",
        "  model_0 = model_builder.TinyVGG(input_channels=3,\n",
        "                                hidden_channels=HIDDEN_UNITS,\n",
        "                                output_channels=len(class_names))\n",
        "\n",
        "  loss_fn = nn.CrossEntropyLoss()\n",
        "  optimizer = torch.optim.Adam(params=model_0.parameters(),\n",
        "                              lr=LEARNING_RATE)\n",
        "\n",
        "  engine.train(model=model_0,\n",
        "              test_dataloader = test_dataloader,\n",
        "              train_dataloader=train_dataloader,\n",
        "              optimizer=optimizer,\n",
        "              loss_fn=loss_fn,\n",
        "              epochs=NUM_EPOCHS,\n",
        "              device=DEVICE)\n",
        "\n",
        "  SAVE_PATH = Path('models/')\n",
        "\n",
        "  utils.save_model(model=model_0,\n",
        "                   target_dir=SAVE_PATH,\n",
        "                   model_name = MODEL_NAME\n",
        "                   )\n",
        "\n",
        "\n",
        "if __name__ == '__main__':\n",
        "    main()"
      ],
      "metadata": {
        "id": "zW_uZI6moq00",
        "outputId": "1fdce517-0cb1-4987-d53a-8d1c9f65ea8d",
        "colab": {
          "base_uri": "https://localhost:8080/"
        }
      },
      "execution_count": 11,
      "outputs": [
        {
          "output_type": "stream",
          "name": "stdout",
          "text": [
            "Overwriting train.py\n"
          ]
        }
      ]
    },
    {
      "cell_type": "code",
      "source": [
        "# Example running of train.py\n",
        "!python train.py --num_epochs 5 --batch_size 128 --hidden_units 128 --learning_rate 0.0003"
      ],
      "metadata": {
        "id": "LzaJl39lC40N",
        "colab": {
          "base_uri": "https://localhost:8080/"
        },
        "outputId": "eed8d20f-95f7-48ef-dd87-dfa2832f9050"
      },
      "execution_count": 13,
      "outputs": [
        {
          "output_type": "stream",
          "name": "stdout",
          "text": [
            "data/pizza_steak_sushi already exists.\n",
            "  0% 0/5 [00:00<?, ?it/s]Epoch: 1 |train_loss: 5664906834483506839552.0000 |train_accuracy: 0.3137 |test_loss: 2305919570407359250432.0000 |test_accuracy: 0.3333\n",
            " 20% 1/5 [00:34<02:16, 34.08s/it]Epoch: 2 |train_loss: 941373989679116845056.0000 |train_accuracy: 0.3485 |test_loss: 29146891464375386767360.0000 |test_accuracy: 0.2533\n",
            " 40% 2/5 [01:07<01:41, 33.87s/it]Epoch: 3 |train_loss: 13535035847931112456192.0000 |train_accuracy: 0.3187 |test_loss: 37238945904773300224.0000 |test_accuracy: 0.4133\n",
            " 60% 3/5 [01:42<01:08, 34.14s/it]Epoch: 4 |train_loss: 33418226561135411200.0000 |train_accuracy: 0.3276 |test_loss: 2756654871229759488.0000 |test_accuracy: 0.3867\n",
            " 80% 4/5 [02:15<00:33, 33.75s/it]Epoch: 5 |train_loss: 2417195224682987520.0000 |train_accuracy: 0.2050 |test_loss: 1509148703477202944.0000 |test_accuracy: 0.2933\n",
            "100% 5/5 [02:56<00:00, 35.36s/it]\n"
          ]
        }
      ]
    },
    {
      "cell_type": "markdown",
      "source": [
        "## 3. Create a Python script to predict (such as `predict.py`) on a target image given a file path with a saved model.\n",
        "\n",
        "* For example, you should be able to run the command `python predict.py some_image.jpeg` and have a trained PyTorch model predict on the image and return its prediction.\n",
        "* To see example prediction code, check out the [predicting on a custom image section in notebook 04](https://www.learnpytorch.io/04_pytorch_custom_datasets/#113-putting-custom-image-prediction-together-building-a-function).\n",
        "* You may also have to write code to load in a trained model."
      ],
      "metadata": {
        "id": "P2g6EEYvm-46"
      }
    },
    {
      "cell_type": "code",
      "source": [
        "%%writefile predict.py\n",
        "# YOUR CODE HERE\n",
        "import torchvision\n",
        "import argparse\n",
        "import matplotlib.pyplot as plt\n",
        "import torch\n",
        "import model_builder\n",
        "from torchvision import transforms\n",
        "from PIL import Image\n",
        "from pathlib import Path\n",
        "\n",
        "def parse_args():\n",
        "  parser = argparse.ArgumentParser()\n",
        "\n",
        "  parser.add_argument('--image_path', type = str, default=None)\n",
        "  parser.add_argument('--class_names', type=list, default=['pizza', 'steak', 'sushi'])\n",
        "  parser.add_argument('--model_path', type=str, default=Path('models/model_0.pth'))\n",
        "  return parser.parse_args()\n",
        "\n",
        "def main():\n",
        "  arg = parse_args()\n",
        "\n",
        "  IMAGE_PATH = arg.image_path\n",
        "  CLASS_NAMES = arg.class_names\n",
        "  MODEL_PATH = arg.model_path\n",
        "\n",
        "  SIMPLE_TRANSFORM = torchvision.transforms.Compose([\n",
        "      transforms.Resize(size=(64, 64)),\n",
        "      transforms.ToTensor()\n",
        "  ])\n",
        "\n",
        "  target_image = Image.open(str(IMAGE_PATH))\n",
        "  target_image = SIMPLE_TRANSFORM(target_image)\n",
        "  target_image /= 255\n",
        "\n",
        "  model = model_builder.TinyVGG(input_channels=3,\n",
        "                        hidden_channels=128,\n",
        "                        output_channels=3)\n",
        "  model.load_state_dict(torch.load(MODEL_PATH, weights_only=True))\n",
        "\n",
        "  model.eval()\n",
        "  with torch.inference_mode():\n",
        "    target_image = target_image.unsqueeze(dim=0)\n",
        "    y_logit = model(target_image)\n",
        "\n",
        "  y_pred_label = torch.argmax(torch.softmax(y_logit, dim=1), dim=1)\n",
        "\n",
        "  \"\"\"  plt.imshow(target_image.squeeze().permute(1, 2, 0))\n",
        "    if CLASS_NAMES != None:\n",
        "      title = f'Prediction: {CLASS_NAMES[y_pred_label]}'\n",
        "    else:\n",
        "      title = f'Prediction: {y_pred_label}'\n",
        "    plt.title(title)\n",
        "    plt.axis(\"off\")\n",
        "    plt.show()\n",
        "  \"\"\"\n",
        "  if CLASS_NAMES != None:\n",
        "    prediction = f\"Prediction: {CLASS_NAMES[y_pred_label]}\"\n",
        "  else:\n",
        "    prediction = f\"Prediction: {y_pred_label}\"\n",
        "\n",
        "  print(prediction)\n",
        "\n",
        "if __name__ == '__main__':\n",
        "  main()"
      ],
      "metadata": {
        "id": "HU7W6VZfYawP",
        "colab": {
          "base_uri": "https://localhost:8080/"
        },
        "outputId": "04654663-d2dc-4b4c-9660-3f8274f3cd8a"
      },
      "execution_count": 42,
      "outputs": [
        {
          "output_type": "stream",
          "name": "stdout",
          "text": [
            "Overwriting predict.py\n"
          ]
        }
      ]
    },
    {
      "cell_type": "code",
      "source": [
        "# Example running of predict.py\n",
        "!python predict.py --image data/pizza_steak_sushi/test/sushi/175783.jpg"
      ],
      "metadata": {
        "id": "Zcvw9sitIn6r",
        "colab": {
          "base_uri": "https://localhost:8080/"
        },
        "outputId": "cfe7817a-d2bd-476a-852d-c178a1f6f092"
      },
      "execution_count": 43,
      "outputs": [
        {
          "output_type": "stream",
          "name": "stdout",
          "text": [
            "Prediction: pizza\n"
          ]
        }
      ]
    },
    {
      "cell_type": "code",
      "source": [],
      "metadata": {
        "id": "4mF9ntHl-Zpn"
      },
      "execution_count": null,
      "outputs": []
    }
  ]
}