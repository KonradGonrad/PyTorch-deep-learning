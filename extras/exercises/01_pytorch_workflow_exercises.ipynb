{
  "nbformat": 4,
  "nbformat_minor": 0,
  "metadata": {
    "colab": {
      "name": "01_pytorch_workflow_exercises.ipynb",
      "provenance": [],
      "include_colab_link": true
    },
    "kernelspec": {
      "name": "python3",
      "display_name": "Python 3"
    },
    "language_info": {
      "name": "python"
    },
    "accelerator": "GPU"
  },
  "cells": [
    {
      "cell_type": "markdown",
      "metadata": {
        "id": "view-in-github",
        "colab_type": "text"
      },
      "source": [
        "<a href=\"https://colab.research.google.com/github/KonradGonrad/PyTorch-deep-learning/blob/main/extras/exercises/01_pytorch_workflow_exercises.ipynb\" target=\"_parent\"><img src=\"https://colab.research.google.com/assets/colab-badge.svg\" alt=\"Open In Colab\"/></a>"
      ]
    },
    {
      "cell_type": "markdown",
      "source": [
        "# Practising all what i have learned"
      ],
      "metadata": {
        "id": "YqlL3_Ynw4sj"
      }
    },
    {
      "cell_type": "markdown",
      "source": [
        "# 01. PyTorch Workflow Exercise Template\n",
        "\n",
        "The following is a template for the PyTorch workflow exercises.\n",
        "\n",
        "It's only starter code and it's your job to fill in the blanks.\n",
        "\n",
        "Because of the flexibility of PyTorch, there may be more than one way to answer the question.\n",
        "\n",
        "Don't worry about trying to be *right* just try writing code that suffices the question.\n",
        "\n",
        "You can see one form of [solutions on GitHub](https://github.com/mrdbourke/pytorch-deep-learning/tree/main/extras/solutions) (but try the exercises below yourself first!)."
      ],
      "metadata": {
        "id": "N8LsPXZti9Sw"
      }
    },
    {
      "cell_type": "code",
      "source": [
        "# Import necessary libraries\n",
        "import torch\n",
        "import torch.nn as nn\n",
        "import torch.optim as optim\n",
        "import matplotlib.pyplot as plt"
      ],
      "metadata": {
        "id": "Glu2fM4dkNlx"
      },
      "execution_count": 155,
      "outputs": []
    },
    {
      "cell_type": "code",
      "source": [
        "# Setup device-agnostic code\n",
        "DEVICE_DESTINATION = 'cuda' if torch.cuda.is_available() else 'cpu'"
      ],
      "metadata": {
        "id": "LqKhXY26m31s"
      },
      "execution_count": 156,
      "outputs": []
    },
    {
      "cell_type": "markdown",
      "source": [
        "## 1. Create a straight line dataset using the linear regression formula (`weight * X + bias`).\n",
        "  * Set `weight=0.3` and `bias=0.9` there should be at least 100 datapoints total.\n",
        "  * Split the data into 80% training, 20% testing.\n",
        "  * Plot the training and testing data so it becomes visual.\n",
        "\n",
        "Your output of the below cell should look something like:\n",
        "```\n",
        "Number of X samples: 100\n",
        "Number of y samples: 100\n",
        "First 10 X & y samples:\n",
        "X: tensor([0.0000, 0.0100, 0.0200, 0.0300, 0.0400, 0.0500, 0.0600, 0.0700, 0.0800,\n",
        "        0.0900])\n",
        "y: tensor([0.9000, 0.9030, 0.9060, 0.9090, 0.9120, 0.9150, 0.9180, 0.9210, 0.9240,\n",
        "        0.9270])\n",
        "```\n",
        "\n",
        "Of course the numbers in `X` and `y` may be different but ideally they're created using the linear regression formula."
      ],
      "metadata": {
        "id": "g7HUhxCxjeBx"
      }
    },
    {
      "cell_type": "code",
      "source": [
        "# Create the data parameters\n",
        "## Known parameters:\n",
        "weight = 0.3\n",
        "bias = 0.9\n",
        "RANDOM_STATE = 42\n",
        "delimiter = 80\n",
        "\n",
        "# Make X and y using linear regression feature\n",
        "X = torch.arange(start=0, end=1.0, step=0.01).unsqueeze(dim=1)\n",
        "y = weight * X + bias\n",
        "\n",
        "print(f\"Number of X samples: {len(X)}\")\n",
        "print(f\"Number of y samples: {len(y)}\")\n",
        "print(f\"First 10 X & y samples:\\nX: {X[:10]}\\ny: {y[:10]}\")"
      ],
      "metadata": {
        "id": "KbDG5MV7jhvE",
        "outputId": "f25f45c9-c376-4519-a44c-549a8c39ce8d",
        "colab": {
          "base_uri": "https://localhost:8080/"
        }
      },
      "execution_count": 157,
      "outputs": [
        {
          "output_type": "stream",
          "name": "stdout",
          "text": [
            "Number of X samples: 100\n",
            "Number of y samples: 100\n",
            "First 10 X & y samples:\n",
            "X: tensor([[0.0000],\n",
            "        [0.0100],\n",
            "        [0.0200],\n",
            "        [0.0300],\n",
            "        [0.0400],\n",
            "        [0.0500],\n",
            "        [0.0600],\n",
            "        [0.0700],\n",
            "        [0.0800],\n",
            "        [0.0900]])\n",
            "y: tensor([[0.9000],\n",
            "        [0.9030],\n",
            "        [0.9060],\n",
            "        [0.9090],\n",
            "        [0.9120],\n",
            "        [0.9150],\n",
            "        [0.9180],\n",
            "        [0.9210],\n",
            "        [0.9240],\n",
            "        [0.9270]])\n"
          ]
        }
      ]
    },
    {
      "cell_type": "code",
      "source": [
        "# Split the data into training and testing\n",
        "X_train, y_train = X[:delimiter], y[:delimiter]\n",
        "X_test, y_test = X[delimiter:], y[delimiter:]\n",
        "\n",
        "print(f\"train size: {len(X_train), len(y_train)} and test size: {len(X_train), len(y_train)}\")"
      ],
      "metadata": {
        "id": "GlwtT1djkmLw",
        "outputId": "d454a300-47ea-46a9-8e88-fa9820b31d68",
        "colab": {
          "base_uri": "https://localhost:8080/"
        }
      },
      "execution_count": 158,
      "outputs": [
        {
          "output_type": "stream",
          "name": "stdout",
          "text": [
            "train size: (80, 80) and test size: (80, 80)\n"
          ]
        }
      ]
    },
    {
      "cell_type": "code",
      "source": [
        "# Plot the training and testing data\n",
        "## Plot function\n",
        "def plot_predictions(X_train = X_train,\n",
        "                     y_train = y_train,\n",
        "                     X_test = X_test,\n",
        "                     y_test = y_test,\n",
        "                     predictions = None):\n",
        "  plt.figure(figsize=(10,7))\n",
        "  plt.title(\"Training and testing data visualization\")\n",
        "  plt.xlabel(\"\")\n",
        "  plt.ylabel(\"\")\n",
        "\n",
        "  plt.scatter(X_train, y_train, s=4, c='blue')\n",
        "  plt.scatter(X_test, y_test, s=4, c='green')\n",
        "\n",
        "  if not (predictions == None):\n",
        "    plt.scatter(X_test, predictions, s=4, c='red')"
      ],
      "metadata": {
        "id": "29iQZFNhlYJ-"
      },
      "execution_count": 159,
      "outputs": []
    },
    {
      "cell_type": "code",
      "source": [
        "### Checking if everything is all right\n",
        "plot_predictions(X_train, y_train, X_test, y_test)"
      ],
      "metadata": {
        "id": "zXD_Zo_gzH-i",
        "outputId": "1866ba8c-ac27-4f7c-b5f9-52db12018ab7",
        "colab": {
          "base_uri": "https://localhost:8080/",
          "height": 620
        }
      },
      "execution_count": 160,
      "outputs": [
        {
          "output_type": "display_data",
          "data": {
            "text/plain": [
              "<Figure size 1000x700 with 1 Axes>"
            ],
            "image/png": "[encoded data removed]"
          },
          "metadata": {}
        }
      ]
    },
    {
      "cell_type": "markdown",
      "source": [
        "## 2. Build a PyTorch model by subclassing `nn.Module`.\n",
        "  * Inside should be a randomly initialized `nn.Parameter()` with `requires_grad=True`, one for `weights` and one for `bias`.\n",
        "  * Implement the `forward()` method to compute the linear regression function you used to create the dataset in 1.\n",
        "  * Once you've constructed the model, make an instance of it and check its `state_dict()`.\n",
        "  * **Note:** If you'd like to use `nn.Linear()` instead of `nn.Parameter()` you can."
      ],
      "metadata": {
        "id": "ImZoe3v8jif8"
      }
    },
    {
      "cell_type": "code",
      "source": [
        "# Create PyTorch linear regression model by subclassing nn.Module\n",
        "class LinearRegressionModel(nn.Module):\n",
        "  def __init__(self):\n",
        "    super().__init__()\n",
        "\n",
        "    self.linear = nn.Linear(in_features = 1,\n",
        "                            out_features = 1)\n",
        "\n",
        "  def forward(self, x: torch.Tensor) -> torch.Tensor:\n",
        "    return self.linear(x)"
      ],
      "metadata": {
        "id": "qzd__Y5rjtB8"
      },
      "execution_count": 161,
      "outputs": []
    },
    {
      "cell_type": "code",
      "source": [
        "# Instantiate the model and put it to the target device\n",
        "model_0 = LinearRegressionModel()"
      ],
      "metadata": {
        "id": "5LdcDnmOmyQ2"
      },
      "execution_count": 162,
      "outputs": []
    },
    {
      "cell_type": "markdown",
      "source": [
        "## 3. Create a loss function and optimizer using `nn.L1Loss()` and `torch.optim.SGD(params, lr)` respectively.\n",
        "  * Set the learning rate of the optimizer to be 0.01 and the parameters to optimize should be the model parameters from the model you created in 2.\n",
        "  * Write a training loop to perform the appropriate training steps for 300 epochs.\n",
        "  * The training loop should test the model on the test dataset every 20 epochs."
      ],
      "metadata": {
        "id": "G6nYOrJhjtfu"
      }
    },
    {
      "cell_type": "code",
      "source": [
        "# Create the loss function and optimizer\n",
        "loss_fn = nn.L1Loss()\n",
        "optimizer = optim.SGD(params = model_0.parameters(), lr = 0.01)"
      ],
      "metadata": {
        "id": "ltvoZ-FWjv1j"
      },
      "execution_count": 163,
      "outputs": []
    },
    {
      "cell_type": "code",
      "source": [
        "y_train.shape"
      ],
      "metadata": {
        "id": "v1P4aZ2O6XeG",
        "outputId": "447952a9-cc1a-45d9-a489-a78af6269a98",
        "colab": {
          "base_uri": "https://localhost:8080/"
        }
      },
      "execution_count": 164,
      "outputs": [
        {
          "output_type": "execute_result",
          "data": {
            "text/plain": [
              "torch.Size([80, 1])"
            ]
          },
          "metadata": {},
          "execution_count": 164
        }
      ]
    },
    {
      "cell_type": "code",
      "source": [
        "# Training loop\n",
        "torch.manual_seed(RANDOM_STATE)\n",
        "\n",
        "# Train model for 300 epochs\n",
        "epochs = 3000\n",
        "\n",
        "# Send data to target device\n",
        "X_train = X_train.to(DEVICE_DESTINATION)\n",
        "X_test = X_test.to(DEVICE_DESTINATION)\n",
        "y_train = y_train.to(DEVICE_DESTINATION)\n",
        "y_test = y_test.to(DEVICE_DESTINATION)\n",
        "\n",
        "for epoch in range(epochs):\n",
        "  ### Training\n",
        "\n",
        "  # Put model in train mode\n",
        "  model_0.train()\n",
        "\n",
        "  # 1. Forward pass\n",
        "  y_train_pred = model_0.forward(X_train)\n",
        "\n",
        "  # 2. Calculate loss\n",
        "  train_loss = loss_fn(y_train_pred, y_train)\n",
        "\n",
        "  # 3. Zero gradients\n",
        "  optimizer.zero_grad()\n",
        "\n",
        "  # 4. Backpropagation\n",
        "  train_loss.backward()\n",
        "\n",
        "  # 5. Step the optimizer\n",
        "  optimizer.step()\n",
        "\n",
        "  ### Perform testing every 20 epochs\n",
        "  if epoch % 20 == 0:\n",
        "\n",
        "    # Put model in evaluation mode and setup inference context\n",
        "    model_0.eval()\n",
        "\n",
        "    with torch.inference_mode():\n",
        "      # 1. Forward pass\n",
        "      y_eval_pred = model_0.forward(X_test)\n",
        "      # 2. Calculate test loss\n",
        "      test_loss = loss_fn(y_eval_pred, y_test)\n",
        "      # Print out what's happening\n",
        "      print(f\"Epoch: {epoch} | Train loss: {train_loss:.3f} | Test loss: {test_loss:.3f}\")"
      ],
      "metadata": {
        "id": "xpE83NvNnkdV",
        "outputId": "e4024738-270a-44f0-9f1b-24e04ff7a0ec",
        "colab": {
          "base_uri": "https://localhost:8080/"
        }
      },
      "execution_count": 165,
      "outputs": [
        {
          "output_type": "stream",
          "name": "stdout",
          "text": [
            "Epoch: 0 | Train loss: 1.033 | Test loss: 0.996\n",
            "Epoch: 20 | Train loss: 0.801 | Test loss: 0.725\n",
            "Epoch: 40 | Train loss: 0.570 | Test loss: 0.454\n",
            "Epoch: 60 | Train loss: 0.339 | Test loss: 0.184\n",
            "Epoch: 80 | Train loss: 0.115 | Test loss: 0.080\n",
            "Epoch: 100 | Train loss: 0.075 | Test loss: 0.153\n",
            "Epoch: 120 | Train loss: 0.067 | Test loss: 0.153\n",
            "Epoch: 140 | Train loss: 0.060 | Test loss: 0.139\n",
            "Epoch: 160 | Train loss: 0.053 | Test loss: 0.124\n",
            "Epoch: 180 | Train loss: 0.047 | Test loss: 0.109\n",
            "Epoch: 200 | Train loss: 0.040 | Test loss: 0.093\n",
            "Epoch: 220 | Train loss: 0.033 | Test loss: 0.077\n",
            "Epoch: 240 | Train loss: 0.026 | Test loss: 0.061\n",
            "Epoch: 260 | Train loss: 0.019 | Test loss: 0.045\n",
            "Epoch: 280 | Train loss: 0.012 | Test loss: 0.028\n",
            "Epoch: 300 | Train loss: 0.006 | Test loss: 0.012\n",
            "Epoch: 320 | Train loss: 0.008 | Test loss: 0.001\n",
            "Epoch: 340 | Train loss: 0.008 | Test loss: 0.001\n",
            "Epoch: 360 | Train loss: 0.008 | Test loss: 0.001\n",
            "Epoch: 380 | Train loss: 0.008 | Test loss: 0.001\n",
            "Epoch: 400 | Train loss: 0.008 | Test loss: 0.001\n",
            "Epoch: 420 | Train loss: 0.008 | Test loss: 0.001\n",
            "Epoch: 440 | Train loss: 0.008 | Test loss: 0.001\n",
            "Epoch: 460 | Train loss: 0.008 | Test loss: 0.001\n",
            "Epoch: 480 | Train loss: 0.008 | Test loss: 0.001\n",
            "Epoch: 500 | Train loss: 0.008 | Test loss: 0.001\n",
            "Epoch: 520 | Train loss: 0.008 | Test loss: 0.001\n",
            "Epoch: 540 | Train loss: 0.008 | Test loss: 0.001\n",
            "Epoch: 560 | Train loss: 0.008 | Test loss: 0.001\n",
            "Epoch: 580 | Train loss: 0.008 | Test loss: 0.001\n",
            "Epoch: 600 | Train loss: 0.008 | Test loss: 0.001\n",
            "Epoch: 620 | Train loss: 0.008 | Test loss: 0.001\n",
            "Epoch: 640 | Train loss: 0.008 | Test loss: 0.001\n",
            "Epoch: 660 | Train loss: 0.008 | Test loss: 0.001\n",
            "Epoch: 680 | Train loss: 0.008 | Test loss: 0.001\n",
            "Epoch: 700 | Train loss: 0.008 | Test loss: 0.001\n",
            "Epoch: 720 | Train loss: 0.008 | Test loss: 0.001\n",
            "Epoch: 740 | Train loss: 0.008 | Test loss: 0.001\n",
            "Epoch: 760 | Train loss: 0.008 | Test loss: 0.001\n",
            "Epoch: 780 | Train loss: 0.008 | Test loss: 0.001\n",
            "Epoch: 800 | Train loss: 0.008 | Test loss: 0.001\n",
            "Epoch: 820 | Train loss: 0.008 | Test loss: 0.001\n",
            "Epoch: 840 | Train loss: 0.008 | Test loss: 0.001\n",
            "Epoch: 860 | Train loss: 0.008 | Test loss: 0.001\n",
            "Epoch: 880 | Train loss: 0.008 | Test loss: 0.001\n",
            "Epoch: 900 | Train loss: 0.008 | Test loss: 0.001\n",
            "Epoch: 920 | Train loss: 0.008 | Test loss: 0.001\n",
            "Epoch: 940 | Train loss: 0.008 | Test loss: 0.001\n",
            "Epoch: 960 | Train loss: 0.008 | Test loss: 0.001\n",
            "Epoch: 980 | Train loss: 0.008 | Test loss: 0.001\n",
            "Epoch: 1000 | Train loss: 0.008 | Test loss: 0.001\n",
            "Epoch: 1020 | Train loss: 0.008 | Test loss: 0.001\n",
            "Epoch: 1040 | Train loss: 0.008 | Test loss: 0.001\n",
            "Epoch: 1060 | Train loss: 0.008 | Test loss: 0.001\n",
            "Epoch: 1080 | Train loss: 0.008 | Test loss: 0.001\n",
            "Epoch: 1100 | Train loss: 0.008 | Test loss: 0.001\n",
            "Epoch: 1120 | Train loss: 0.008 | Test loss: 0.001\n",
            "Epoch: 1140 | Train loss: 0.008 | Test loss: 0.001\n",
            "Epoch: 1160 | Train loss: 0.008 | Test loss: 0.001\n",
            "Epoch: 1180 | Train loss: 0.008 | Test loss: 0.001\n",
            "Epoch: 1200 | Train loss: 0.008 | Test loss: 0.001\n",
            "Epoch: 1220 | Train loss: 0.008 | Test loss: 0.001\n",
            "Epoch: 1240 | Train loss: 0.008 | Test loss: 0.001\n",
            "Epoch: 1260 | Train loss: 0.008 | Test loss: 0.001\n",
            "Epoch: 1280 | Train loss: 0.008 | Test loss: 0.001\n",
            "Epoch: 1300 | Train loss: 0.008 | Test loss: 0.001\n",
            "Epoch: 1320 | Train loss: 0.008 | Test loss: 0.001\n",
            "Epoch: 1340 | Train loss: 0.008 | Test loss: 0.001\n",
            "Epoch: 1360 | Train loss: 0.008 | Test loss: 0.001\n",
            "Epoch: 1380 | Train loss: 0.008 | Test loss: 0.001\n",
            "Epoch: 1400 | Train loss: 0.008 | Test loss: 0.001\n",
            "Epoch: 1420 | Train loss: 0.008 | Test loss: 0.001\n",
            "Epoch: 1440 | Train loss: 0.008 | Test loss: 0.001\n",
            "Epoch: 1460 | Train loss: 0.008 | Test loss: 0.001\n",
            "Epoch: 1480 | Train loss: 0.008 | Test loss: 0.001\n",
            "Epoch: 1500 | Train loss: 0.008 | Test loss: 0.001\n",
            "Epoch: 1520 | Train loss: 0.008 | Test loss: 0.001\n",
            "Epoch: 1540 | Train loss: 0.008 | Test loss: 0.001\n",
            "Epoch: 1560 | Train loss: 0.008 | Test loss: 0.001\n",
            "Epoch: 1580 | Train loss: 0.008 | Test loss: 0.001\n",
            "Epoch: 1600 | Train loss: 0.008 | Test loss: 0.001\n",
            "Epoch: 1620 | Train loss: 0.008 | Test loss: 0.001\n",
            "Epoch: 1640 | Train loss: 0.008 | Test loss: 0.001\n",
            "Epoch: 1660 | Train loss: 0.008 | Test loss: 0.001\n",
            "Epoch: 1680 | Train loss: 0.008 | Test loss: 0.001\n",
            "Epoch: 1700 | Train loss: 0.008 | Test loss: 0.001\n",
            "Epoch: 1720 | Train loss: 0.008 | Test loss: 0.001\n",
            "Epoch: 1740 | Train loss: 0.008 | Test loss: 0.001\n",
            "Epoch: 1760 | Train loss: 0.008 | Test loss: 0.001\n",
            "Epoch: 1780 | Train loss: 0.008 | Test loss: 0.001\n",
            "Epoch: 1800 | Train loss: 0.008 | Test loss: 0.001\n",
            "Epoch: 1820 | Train loss: 0.008 | Test loss: 0.001\n",
            "Epoch: 1840 | Train loss: 0.008 | Test loss: 0.001\n",
            "Epoch: 1860 | Train loss: 0.008 | Test loss: 0.001\n",
            "Epoch: 1880 | Train loss: 0.008 | Test loss: 0.001\n",
            "Epoch: 1900 | Train loss: 0.008 | Test loss: 0.001\n",
            "Epoch: 1920 | Train loss: 0.008 | Test loss: 0.001\n",
            "Epoch: 1940 | Train loss: 0.008 | Test loss: 0.001\n",
            "Epoch: 1960 | Train loss: 0.008 | Test loss: 0.001\n",
            "Epoch: 1980 | Train loss: 0.008 | Test loss: 0.001\n",
            "Epoch: 2000 | Train loss: 0.008 | Test loss: 0.001\n",
            "Epoch: 2020 | Train loss: 0.008 | Test loss: 0.001\n",
            "Epoch: 2040 | Train loss: 0.008 | Test loss: 0.001\n",
            "Epoch: 2060 | Train loss: 0.008 | Test loss: 0.001\n",
            "Epoch: 2080 | Train loss: 0.008 | Test loss: 0.001\n",
            "Epoch: 2100 | Train loss: 0.008 | Test loss: 0.001\n",
            "Epoch: 2120 | Train loss: 0.008 | Test loss: 0.001\n",
            "Epoch: 2140 | Train loss: 0.008 | Test loss: 0.001\n",
            "Epoch: 2160 | Train loss: 0.008 | Test loss: 0.001\n",
            "Epoch: 2180 | Train loss: 0.008 | Test loss: 0.001\n",
            "Epoch: 2200 | Train loss: 0.008 | Test loss: 0.001\n",
            "Epoch: 2220 | Train loss: 0.008 | Test loss: 0.001\n",
            "Epoch: 2240 | Train loss: 0.008 | Test loss: 0.001\n",
            "Epoch: 2260 | Train loss: 0.008 | Test loss: 0.001\n",
            "Epoch: 2280 | Train loss: 0.008 | Test loss: 0.001\n",
            "Epoch: 2300 | Train loss: 0.008 | Test loss: 0.001\n",
            "Epoch: 2320 | Train loss: 0.008 | Test loss: 0.001\n",
            "Epoch: 2340 | Train loss: 0.008 | Test loss: 0.001\n",
            "Epoch: 2360 | Train loss: 0.008 | Test loss: 0.001\n",
            "Epoch: 2380 | Train loss: 0.008 | Test loss: 0.001\n",
            "Epoch: 2400 | Train loss: 0.008 | Test loss: 0.001\n",
            "Epoch: 2420 | Train loss: 0.008 | Test loss: 0.001\n",
            "Epoch: 2440 | Train loss: 0.008 | Test loss: 0.001\n",
            "Epoch: 2460 | Train loss: 0.008 | Test loss: 0.001\n",
            "Epoch: 2480 | Train loss: 0.008 | Test loss: 0.001\n",
            "Epoch: 2500 | Train loss: 0.008 | Test loss: 0.001\n",
            "Epoch: 2520 | Train loss: 0.008 | Test loss: 0.001\n",
            "Epoch: 2540 | Train loss: 0.008 | Test loss: 0.001\n",
            "Epoch: 2560 | Train loss: 0.008 | Test loss: 0.001\n",
            "Epoch: 2580 | Train loss: 0.008 | Test loss: 0.001\n",
            "Epoch: 2600 | Train loss: 0.008 | Test loss: 0.001\n",
            "Epoch: 2620 | Train loss: 0.008 | Test loss: 0.001\n",
            "Epoch: 2640 | Train loss: 0.008 | Test loss: 0.001\n",
            "Epoch: 2660 | Train loss: 0.008 | Test loss: 0.001\n",
            "Epoch: 2680 | Train loss: 0.008 | Test loss: 0.001\n",
            "Epoch: 2700 | Train loss: 0.008 | Test loss: 0.001\n",
            "Epoch: 2720 | Train loss: 0.008 | Test loss: 0.001\n",
            "Epoch: 2740 | Train loss: 0.008 | Test loss: 0.001\n",
            "Epoch: 2760 | Train loss: 0.008 | Test loss: 0.001\n",
            "Epoch: 2780 | Train loss: 0.008 | Test loss: 0.001\n",
            "Epoch: 2800 | Train loss: 0.008 | Test loss: 0.001\n",
            "Epoch: 2820 | Train loss: 0.008 | Test loss: 0.001\n",
            "Epoch: 2840 | Train loss: 0.008 | Test loss: 0.001\n",
            "Epoch: 2860 | Train loss: 0.008 | Test loss: 0.001\n",
            "Epoch: 2880 | Train loss: 0.008 | Test loss: 0.001\n",
            "Epoch: 2900 | Train loss: 0.008 | Test loss: 0.001\n",
            "Epoch: 2920 | Train loss: 0.008 | Test loss: 0.001\n",
            "Epoch: 2940 | Train loss: 0.008 | Test loss: 0.001\n",
            "Epoch: 2960 | Train loss: 0.008 | Test loss: 0.001\n",
            "Epoch: 2980 | Train loss: 0.008 | Test loss: 0.001\n"
          ]
        }
      ]
    },
    {
      "cell_type": "markdown",
      "source": [
        "## 4. Make predictions with the trained model on the test data.\n",
        "  * Visualize these predictions against the original training and testing data (**note:** you may need to make sure the predictions are *not* on the GPU if you want to use non-CUDA-enabled libraries such as matplotlib to plot)."
      ],
      "metadata": {
        "id": "x4j4TM18jwa7"
      }
    },
    {
      "cell_type": "code",
      "source": [
        "# Make predictions with the model\n",
        "\n",
        "## Changing device for data to prepare it for visualization with matplotlib\n",
        "X_train, y_train = X_train.to('cpu'), y_train.to('cpu')\n",
        "X_test, y_test = X_test.to('cpu'), y_test.to('cpu')\n",
        "\n",
        "## Predictions\n",
        "model_0.eval()\n",
        "with torch.inference_mode():\n",
        "  y_pred = model_0(X_test)"
      ],
      "metadata": {
        "id": "bbMPK5Qjjyx_"
      },
      "execution_count": 166,
      "outputs": []
    },
    {
      "cell_type": "code",
      "source": [
        "# Plot the predictions (these may need to be on a specific device)\n",
        "plot_predictions(X_train, y_train, X_test, y_test, y_pred)"
      ],
      "metadata": {
        "id": "K3BdmQaDpFo8",
        "outputId": "bf3a74cd-e4f8-4610-c444-cd1ff3617092",
        "colab": {
          "base_uri": "https://localhost:8080/",
          "height": 620
        }
      },
      "execution_count": 167,
      "outputs": [
        {
          "output_type": "display_data",
          "data": {
            "text/plain": [
              "<Figure size 1000x700 with 1 Axes>"
            ],
            "image/png": "[encoded data removed]"
          },
          "metadata": {}
        }
      ]
    },
    {
      "cell_type": "code",
      "source": [
        "model_0.state_dict()"
      ],
      "metadata": {
        "id": "nx7amd95-OAs",
        "outputId": "126cf1a4-1593-4092-ce26-dac60feb3bd1",
        "colab": {
          "base_uri": "https://localhost:8080/"
        }
      },
      "execution_count": 168,
      "outputs": [
        {
          "output_type": "execute_result",
          "data": {
            "text/plain": [
              "OrderedDict([('linear.weight', tensor([[0.3084]])),\n",
              "             ('linear.bias', tensor([0.9050]))])"
            ]
          },
          "metadata": {},
          "execution_count": 168
        }
      ]
    },
    {
      "cell_type": "markdown",
      "source": [
        "## 5. Save your trained model's `state_dict()` to file.\n",
        "  * Create a new instance of your model class you made in 2. and load in the `state_dict()` you just saved to it.\n",
        "  * Perform predictions on your test data with the loaded model and confirm they match the original model predictions from 4."
      ],
      "metadata": {
        "id": "s2OnlMWKjzX8"
      }
    },
    {
      "cell_type": "code",
      "source": [
        "from pathlib import Path\n",
        "\n",
        "# 1. Create models directory\n",
        "PATH = Path('Models')\n",
        "PATH.mkdir(parents=True, exist_ok=True)\n",
        "\n",
        "# 2. Create model save path\n",
        "MODEL_NAME = 'Model_0.alpha_version'\n",
        "MODEL_PATH = PATH / MODEL_NAME\n",
        "# 3. Save the model state dict\n",
        "torch.save(obj=model_0.state_dict(),\n",
        "           f=MODEL_PATH)"
      ],
      "metadata": {
        "id": "hgxhgD14qr-i"
      },
      "execution_count": 169,
      "outputs": []
    },
    {
      "cell_type": "code",
      "source": [
        "# Create new instance of model and load saved state dict (make sure to put it on the target device)\n",
        "model_0_reloaded = LinearRegressionModel()\n",
        "model_0_reloaded.to(DEVICE_DESTINATION)\n",
        "\n",
        "model_0_reloaded.load_state_dict(torch.load(MODEL_PATH))\n",
        "model_0_reloaded.state_dict()"
      ],
      "metadata": {
        "id": "P9vTgiLRrJ7T",
        "outputId": "c602face-29c1-46c0-f06c-40678448adb7",
        "colab": {
          "base_uri": "https://localhost:8080/"
        }
      },
      "execution_count": 170,
      "outputs": [
        {
          "output_type": "execute_result",
          "data": {
            "text/plain": [
              "OrderedDict([('linear.weight', tensor([[0.3084]])),\n",
              "             ('linear.bias', tensor([0.9050]))])"
            ]
          },
          "metadata": {},
          "execution_count": 170
        }
      ]
    },
    {
      "cell_type": "code",
      "source": [
        "# Make predictions with loaded model and compare them to the previous\n",
        "y_pred_reloaded = model_0_reloaded(X_test)\n",
        "\n",
        "## Comparing preds\n",
        "print(f\"correct at: {len(y_pred == y_pred_reloaded) / len(y_pred_reloaded) * 100}%\")"
      ],
      "metadata": {
        "id": "8UGX3VebrVtI",
        "outputId": "0bf099ab-db68-4936-b7d0-deed09cf4543",
        "colab": {
          "base_uri": "https://localhost:8080/"
        }
      },
      "execution_count": 171,
      "outputs": [
        {
          "output_type": "stream",
          "name": "stdout",
          "text": [
            "correct at: 100.0%\n"
          ]
        }
      ]
    },
    {
      "cell_type": "code",
      "source": [
        "model_0_reloaded.eval()\n",
        "with torch.inference_mode():\n",
        "  reloaded_model = plot_predictions(X_train, y_train, X_test, y_test, y_pred_reloaded)\n",
        "\n",
        "model_0.eval()\n",
        "with torch.inference_mode():\n",
        "  og_model = plot_predictions(X_train, y_train, X_test, y_test, y_pred)"
      ],
      "metadata": {
        "id": "E3hO-c8V_Xi1",
        "outputId": "073f561b-a232-4a4a-bae0-a134a9d728f7",
        "colab": {
          "base_uri": "https://localhost:8080/",
          "height": 1000
        }
      },
      "execution_count": 172,
      "outputs": [
        {
          "output_type": "display_data",
          "data": {
            "text/plain": [
              "<Figure size 1000x700 with 1 Axes>"
            ],
            "image/png": "[encoded data removed]"
          },
          "metadata": {}
        },
        {
          "output_type": "display_data",
          "data": {
            "text/plain": [
              "<Figure size 1000x700 with 1 Axes>"
            ],
            "image/png": "[encoded data removed]"
          },
          "metadata": {}
        }
      ]
    },
    {
      "cell_type": "code",
      "source": [],
      "metadata": {
        "id": "95AWIcPG_uTd"
      },
      "execution_count": 172,
      "outputs": []
    }
  ]
}